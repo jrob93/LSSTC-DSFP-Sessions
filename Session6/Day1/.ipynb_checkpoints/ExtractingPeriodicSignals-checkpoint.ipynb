{
 "cells": [
  {
   "cell_type": "code",
   "execution_count": 1,
   "metadata": {
    "slideshow": {
     "slide_type": "skip"
    }
   },
   "outputs": [],
   "source": [
    "import numpy as np\n",
    "import pandas as pd\n",
    "from scipy.optimize import minimize\n",
    "\n",
    "import matplotlib.pyplot as plt\n",
    "%matplotlib notebook"
   ]
  },
  {
   "cell_type": "markdown",
   "metadata": {
    "slideshow": {
     "slide_type": "slide"
    }
   },
   "source": [
    "# Periodic Signals & The Lomb-Scargle Periodogram\n",
    "\n",
    "**Version 0.1**\n",
    "\n",
    "* * *\n",
    "\n",
    "By AA Miller (CIERA/Northwestern & Adler)"
   ]
  },
  {
   "cell_type": "markdown",
   "metadata": {
    "slideshow": {
     "slide_type": "slide"
    }
   },
   "source": [
    "This notebook discusses the detection of periodic signals in noisy, irregular data (the standard for ground-based astronomical surveys). The discussion below is strongly influenced by *Understanding the Lomb-Scarge Periodogram*, by Jake VanderPlas, a former DSFP lecturer [(VanderPlas 2017)](http://adsabs.harvard.edu/abs/2017arXiv170309824V). Beyond that, the original papers by [Lomb 1976](http://adsabs.harvard.edu/abs/1976Ap%26SS..39..447L) and [Scargle 1982](http://adsabs.harvard.edu/abs/1982ApJ...263..835S) are also worth a read."
   ]
  },
  {
   "cell_type": "markdown",
   "metadata": {
    "slideshow": {
     "slide_type": "slide"
    }
   },
   "source": [
    "There are many, many papers on the use of the Lomb-Scargle periodogram (and other period detection methods). Former DSFP lecturer, Matthew Graham and colleagues conducted a systematic analysis of many of the most popular tools used to search for periodic signals on *actual astronomical data* [(Graham et al. 2013)](http://adsabs.harvard.edu/abs/2013MNRAS.434.3423G). [Somewhat to my (our?) dismay, they found that none of the solutions work really well across all use cases.]"
   ]
  },
  {
   "cell_type": "markdown",
   "metadata": {
    "slideshow": {
     "slide_type": "slide"
    }
   },
   "source": [
    "## Problem 1) Helper Functions\n",
    "\n",
    "Throughout this lecture, there are a number of operations that we will be performing again and again. Thus, we'll create a few helper functions to minimize repetitive commands (e.g., plotting a phase folded light curve). "
   ]
  },
  {
   "cell_type": "markdown",
   "metadata": {
    "slideshow": {
     "slide_type": "slide"
    }
   },
   "source": [
    "**Problem 1a**\n",
    "\n",
    "Create a function, `gen_periodic_data`, that creates simulated data (including noise) over a grid of user supplied positions:\n",
    "\n",
    "$$ y = A\\,cos\\left(\\frac{2{\\pi}x}{P} - \\phi\\right) + \\sigma_y$$\n",
    "\n",
    "where $A, P, \\phi$ are inputs to the function. `gen_periodic_data` should include Gaussian noise, $\\sigma_y$, for each output $y_i$."
   ]
  },
  {
   "cell_type": "code",
   "execution_count": 14,
   "metadata": {
    "slideshow": {
     "slide_type": "slide"
    }
   },
   "outputs": [],
   "source": [
    "def gen_periodic_data(x,A,P,phi): # complete\n",
    "\n",
    "    y = A*np.cos((2.0*np.pi*x/P)-phi)# complete\n",
    "    # y = y + np.random.normal(y)\n",
    "    return y"
   ]
  },
  {
   "cell_type": "markdown",
   "metadata": {
    "slideshow": {
     "slide_type": "slide"
    }
   },
   "source": [
    "**Problem 1b**\n",
    "\n",
    "Generate a *noise-free* signal with $A = 2$ and $p = \\pi$ over a regular grid between 0 and 10. Plot the results (and make sure `gen_periodic_data` behaves as you would expect)."
   ]
  },
  {
   "cell_type": "code",
   "execution_count": 20,
   "metadata": {
    "slideshow": {
     "slide_type": "slide"
    }
   },
   "outputs": [
    {
     "data": {
      "image/png": "[encoded data removed]",
      "text/plain": [
       "<matplotlib.figure.Figure at 0x151e7dc588>"
      ]
     },
     "metadata": {},
     "output_type": "display_data"
    }
   ],
   "source": [
    "A=2\n",
    "P=np.pi\n",
    "phi=np.pi/2.0\n",
    "\n",
    "x = np.linspace(0,10)# complete\n",
    "y = gen_periodic_data(x,A,P,phi) # complete\n",
    "\n",
    "fig, ax = plt.subplots()\n",
    "ax.scatter(x,y) # complete\n",
    "ax.set_xlabel('x')\n",
    "ax.set_ylabel('y')\n",
    "fig.tight_layout()"
   ]
  },
  {
   "cell_type": "markdown",
   "metadata": {
    "slideshow": {
     "slide_type": "slide"
    }
   },
   "source": [
    "**Problem 1c**\n",
    "\n",
    "Create a function, `phase_plot`, that takes x, y, and $P$ as inputs to create a phase-folded light curve (i.e., plot the data at their respective phase values given the period $P$).\n",
    "\n",
    "Include an optional argument, `y_unc`, to include uncertainties on the `y` values, when available."
   ]
  },
  {
   "cell_type": "code",
   "execution_count": 21,
   "metadata": {
    "slideshow": {
     "slide_type": "slide"
    }
   },
   "outputs": [],
   "source": [
    "def phase_plot(x,y,period, y_unc=0.0): # complete\n",
    "\n",
    "    phases = (x/period) % 1 \n",
    "    \n",
    "    if type(y_unc) == float:\n",
    "        y_unc=np.zeros_like(x)\n",
    "        \n",
    "    plot_order=np.argsort(phases)\n",
    "    fig, ax = plt.subplots()\n",
    "    ax.errorbar(phases[plot_order],y[plot_order],y_unc[plot_order])\n",
    "    fig.tight_layout()"
   ]
  },
  {
   "cell_type": "markdown",
   "metadata": {
    "slideshow": {
     "slide_type": "slide"
    }
   },
   "source": [
    "**Problem 1d**\n",
    "\n",
    "Plot the phase folded data generated in **1b**.\n",
    "\n",
    "Does you plot match your expectations?"
   ]
  },
  {
   "cell_type": "code",
   "execution_count": 27,
   "metadata": {
    "scrolled": false,
    "slideshow": {
     "slide_type": "slide"
    }
   },
   "outputs": [
    {
     "data": {
      "image/png": "[encoded data removed]",
      "text/plain": [
       "<matplotlib.figure.Figure at 0x151ec54358>"
      ]
     },
     "metadata": {},
     "output_type": "display_data"
    }
   ],
   "source": [
    "phase_plot(x,y,P) # complete"
   ]
  },
  {
   "cell_type": "markdown",
   "metadata": {
    "slideshow": {
     "slide_type": "slide"
    }
   },
   "source": [
    "## Problem 2) A Brief Review of Fourier Analysis\n",
    "\n",
    "In astronomical time series, we crave the detection of periodic signals because they can often provide fundamental insight into the sources we are studying (e.g., masses in a binary, classifications for pulsating stars, etc).\n",
    "\n",
    "The standard$^\\dagger$ choice for most astronomers to identify such signals is the Lomb-Scargle (LS) periodogram ([Lomb 1976](http://adsabs.harvard.edu/abs/1976Ap%26SS..39..447L); [Scargle 1982](http://adsabs.harvard.edu/abs/1982ApJ...263..835S)).\n",
    "\n",
    "$^\\dagger$Standard does not mean best, fastest, or even correct depending on your specific application."
   ]
  },
  {
   "cell_type": "markdown",
   "metadata": {
    "slideshow": {
     "slide_type": "slide"
    }
   },
   "source": [
    "At the heart of understanding any periodic signals is Fourier analysis. Thus, to understand how to interpret the LS periodogram, we first need to consider Fourier transforms.\n",
    "\n",
    "*Note - here we aim to jog your memory regarding Fourier analysis. Detailed mathematical calculations can be found elsewhere.*"
   ]
  },
  {
   "cell_type": "markdown",
   "metadata": {
    "slideshow": {
     "slide_type": "slide"
    }
   },
   "source": [
    "Given a continuous signal, $g(t)$ the Fourier transform of that signal is defined as:\n",
    "\n",
    "$$\\hat{\\mathrm{g}}(f) = \\int_{-\\infty}^{\\infty} g(t) \\,e^{-2\\pi i f t} \\,dt,$$\n",
    "\n",
    "where $i$ is an imaginary number. The inverse of this equation is defined as:\n",
    "\n",
    "$$ g(t) = \\int_{-\\infty}^{\\infty} \\hat{\\mathrm{g}}(f) \\,e^{-2\\pi i f t} \\,dt.$$\n",
    "\n",
    "For convenience, we will use the Fourier transform operator $\\mathcal{F}$, from which the above equations reduce to: \n",
    "\n",
    "$$\\mathcal{F}(g) = \\hat g$$\n",
    "\n",
    "$$\\mathcal{F}^{-1}(\\hat{g}) = g$$"
   ]
  },
  {
   "cell_type": "markdown",
   "metadata": {
    "slideshow": {
     "slide_type": "slide"
    }
   },
   "source": [
    "There are many useful properties of the Fourier transform including that the Fourier transform is a linear operator. Additionally, a time shift imparts a phase shift. Perhaps most importantly for our present purposes, however, is that the squared amplitude of the resulting transform allows us to get rid of the imaginary component and measure the power spectral density or power spectrum:\n",
    "\n",
    "$$ \\mathcal{P}_g = \\left|\\mathcal{F}(g)\\right|^2.$$\n",
    "\n",
    "The power spectrum is a real-valued function that quantifies the contribution of each frequency $f$ to the total signal in $g$. The power spectrum thus provides a way to identify the dominant frequency in any given signal. "
   ]
  },
  {
   "cell_type": "markdown",
   "metadata": {
    "slideshow": {
     "slide_type": "slide"
    }
   },
   "source": [
    "Next we consider some common Fourier pairs, that will prove helpful in our interpretation of the LS periodogram. "
   ]
  },
  {
   "cell_type": "code",
   "execution_count": 3,
   "metadata": {
    "slideshow": {
     "slide_type": "slide"
    }
   },
   "outputs": [
    {
     "data": {
      "application/javascript": [
       "/* Put everything inside the global mpl namespace */\n",
       "window.mpl = {};\n",
       "\n",
       "\n",
       "mpl.get_websocket_type = function() {\n",
       "    if (typeof(WebSocket) !== 'undefined') {\n",
       "        return WebSocket;\n",
       "    } else if (typeof(MozWebSocket) !== 'undefined') {\n",
       "        return MozWebSocket;\n",
       "    } else {\n",
       "        alert('Your browser does not have WebSocket support.' +\n",
       "              'Please try Chrome, Safari or Firefox ≥ 6. ' +\n",
       "              'Firefox 4 and 5 are also supported but you ' +\n",
       "              'have to enable WebSockets in about:config.');\n",
       "    };\n",
       "}\n",
       "\n",
       "mpl.figure = function(figure_id, websocket, ondownload, parent_element) {\n",
       "    this.id = figure_id;\n",
       "\n",
       "    this.ws = websocket;\n",
       "\n",
       "    this.supports_binary = (this.ws.binaryType != undefined);\n",
       "\n",
       "    if (!this.supports_binary) {\n",
       "        var warnings = document.getElementById(\"mpl-warnings\");\n",
       "        if (warnings) {\n",
       "            warnings.style.display = 'block';\n",
       "            warnings.textContent = (\n",
       "                \"This browser does not support binary websocket messages. \" +\n",
       "                    \"Performance may be slow.\");\n",
       "        }\n",
       "    }\n",
       "\n",
       "    this.imageObj = new Image();\n",
       "\n",
       "    this.context = undefined;\n",
       "    this.message = undefined;\n",
       "    this.canvas = undefined;\n",
       "    this.rubberband_canvas = undefined;\n",
       "    this.rubberband_context = undefined;\n",
       "    this.format_dropdown = undefined;\n",
       "\n",
       "    this.image_mode = 'full';\n",
       "\n",
       "    this.root = $('<div/>');\n",
       "    this._root_extra_style(this.root)\n",
       "    this.root.attr('style', 'display: inline-block');\n",
       "\n",
       "    $(parent_element).append(this.root);\n",
       "\n",
       "    this._init_header(this);\n",
       "    this._init_canvas(this);\n",
       "    this._init_toolbar(this);\n",
       "\n",
       "    var fig = this;\n",
       "\n",
       "    this.waiting = false;\n",
       "\n",
       "    this.ws.onopen =  function () {\n",
       "            fig.send_message(\"supports_binary\", {value: fig.supports_binary});\n",
       "            fig.send_message(\"send_image_mode\", {});\n",
       "            if (mpl.ratio != 1) {\n",
       "                fig.send_message(\"set_dpi_ratio\", {'dpi_ratio': mpl.ratio});\n",
       "            }\n",
       "            fig.send_message(\"refresh\", {});\n",
       "        }\n",
       "\n",
       "    this.imageObj.onload = function() {\n",
       "            if (fig.image_mode == 'full') {\n",
       "                // Full images could contain transparency (where diff images\n",
       "                // almost always do), so we need to clear the canvas so that\n",
       "                // there is no ghosting.\n",
       "                fig.context.clearRect(0, 0, fig.canvas.width, fig.canvas.height);\n",
       "            }\n",
       "            fig.context.drawImage(fig.imageObj, 0, 0);\n",
       "        };\n",
       "\n",
       "    this.imageObj.onunload = function() {\n",
       "        this.ws.close();\n",
       "    }\n",
       "\n",
       "    this.ws.onmessage = this._make_on_message_function(this);\n",
       "\n",
       "    this.ondownload = ondownload;\n",
       "}\n",
       "\n",
       "mpl.figure.prototype._init_header = function() {\n",
       "    var titlebar = $(\n",
       "        '<div class=\"ui-dialog-titlebar ui-widget-header ui-corner-all ' +\n",
       "        'ui-helper-clearfix\"/>');\n",
       "    var titletext = $(\n",
       "        '<div class=\"ui-dialog-title\" style=\"width: 100%; ' +\n",
       "        'text-align: center; padding: 3px;\"/>');\n",
       "    titlebar.append(titletext)\n",
       "    this.root.append(titlebar);\n",
       "    this.header = titletext[0];\n",
       "}\n",
       "\n",
       "\n",
       "\n",
       "mpl.figure.prototype._canvas_extra_style = function(canvas_div) {\n",
       "\n",
       "}\n",
       "\n",
       "\n",
       "mpl.figure.prototype._root_extra_style = function(canvas_div) {\n",
       "\n",
       "}\n",
       "\n",
       "mpl.figure.prototype._init_canvas = function() {\n",
       "    var fig = this;\n",
       "\n",
       "    var canvas_div = $('<div/>');\n",
       "\n",
       "    canvas_div.attr('style', 'position: relative; clear: both; outline: 0');\n",
       "\n",
       "    function canvas_keyboard_event(event) {\n",
       "        return fig.key_event(event, event['data']);\n",
       "    }\n",
       "\n",
       "    canvas_div.keydown('key_press', canvas_keyboard_event);\n",
       "    canvas_div.keyup('key_release', canvas_keyboard_event);\n",
       "    this.canvas_div = canvas_div\n",
       "    this._canvas_extra_style(canvas_div)\n",
       "    this.root.append(canvas_div);\n",
       "\n",
       "    var canvas = $('<canvas/>');\n",
       "    canvas.addClass('mpl-canvas');\n",
       "    canvas.attr('style', \"left: 0; top: 0; z-index: 0; outline: 0\")\n",
       "\n",
       "    this.canvas = canvas[0];\n",
       "    this.context = canvas[0].getContext(\"2d\");\n",
       "\n",
       "    var backingStore = this.context.backingStorePixelRatio ||\n",
       "\tthis.context.webkitBackingStorePixelRatio ||\n",
       "\tthis.context.mozBackingStorePixelRatio ||\n",
       "\tthis.context.msBackingStorePixelRatio ||\n",
       "\tthis.context.oBackingStorePixelRatio ||\n",
       "\tthis.context.backingStorePixelRatio || 1;\n",
       "\n",
       "    mpl.ratio = (window.devicePixelRatio || 1) / backingStore;\n",
       "\n",
       "    var rubberband = $('<canvas/>');\n",
       "    rubberband.attr('style', \"position: absolute; left: 0; top: 0; z-index: 1;\")\n",
       "\n",
       "    var pass_mouse_events = true;\n",
       "\n",
       "    canvas_div.resizable({\n",
       "        start: function(event, ui) {\n",
       "            pass_mouse_events = false;\n",
       "        },\n",
       "        resize: function(event, ui) {\n",
       "            fig.request_resize(ui.size.width, ui.size.height);\n",
       "        },\n",
       "        stop: function(event, ui) {\n",
       "            pass_mouse_events = true;\n",
       "            fig.request_resize(ui.size.width, ui.size.height);\n",
       "        },\n",
       "    });\n",
       "\n",
       "    function mouse_event_fn(event) {\n",
       "        if (pass_mouse_events)\n",
       "            return fig.mouse_event(event, event['data']);\n",
       "    }\n",
       "\n",
       "    rubberband.mousedown('button_press', mouse_event_fn);\n",
       "    rubberband.mouseup('button_release', mouse_event_fn);\n",
       "    // Throttle sequential mouse events to 1 every 20ms.\n",
       "    rubberband.mousemove('motion_notify', mouse_event_fn);\n",
       "\n",
       "    rubberband.mouseenter('figure_enter', mouse_event_fn);\n",
       "    rubberband.mouseleave('figure_leave', mouse_event_fn);\n",
       "\n",
       "    canvas_div.on(\"wheel\", function (event) {\n",
       "        event = event.originalEvent;\n",
       "        event['data'] = 'scroll'\n",
       "        if (event.deltaY < 0) {\n",
       "            event.step = 1;\n",
       "        } else {\n",
       "            event.step = -1;\n",
       "        }\n",
       "        mouse_event_fn(event);\n",
       "    });\n",
       "\n",
       "    canvas_div.append(canvas);\n",
       "    canvas_div.append(rubberband);\n",
       "\n",
       "    this.rubberband = rubberband;\n",
       "    this.rubberband_canvas = rubberband[0];\n",
       "    this.rubberband_context = rubberband[0].getContext(\"2d\");\n",
       "    this.rubberband_context.strokeStyle = \"#000000\";\n",
       "\n",
       "    this._resize_canvas = function(width, height) {\n",
       "        // Keep the size of the canvas, canvas container, and rubber band\n",
       "        // canvas in synch.\n",
       "        canvas_div.css('width', width)\n",
       "        canvas_div.css('height', height)\n",
       "\n",
       "        canvas.attr('width', width * mpl.ratio);\n",
       "        canvas.attr('height', height * mpl.ratio);\n",
       "        canvas.attr('style', 'width: ' + width + 'px; height: ' + height + 'px;');\n",
       "\n",
       "        rubberband.attr('width', width);\n",
       "        rubberband.attr('height', height);\n",
       "    }\n",
       "\n",
       "    // Set the figure to an initial 600x600px, this will subsequently be updated\n",
       "    // upon first draw.\n",
       "    this._resize_canvas(600, 600);\n",
       "\n",
       "    // Disable right mouse context menu.\n",
       "    $(this.rubberband_canvas).bind(\"contextmenu\",function(e){\n",
       "        return false;\n",
       "    });\n",
       "\n",
       "    function set_focus () {\n",
       "        canvas.focus();\n",
       "        canvas_div.focus();\n",
       "    }\n",
       "\n",
       "    window.setTimeout(set_focus, 100);\n",
       "}\n",
       "\n",
       "mpl.figure.prototype._init_toolbar = function() {\n",
       "    var fig = this;\n",
       "\n",
       "    var nav_element = $('<div/>')\n",
       "    nav_element.attr('style', 'width: 100%');\n",
       "    this.root.append(nav_element);\n",
       "\n",
       "    // Define a callback function for later on.\n",
       "    function toolbar_event(event) {\n",
       "        return fig.toolbar_button_onclick(event['data']);\n",
       "    }\n",
       "    function toolbar_mouse_event(event) {\n",
       "        return fig.toolbar_button_onmouseover(event['data']);\n",
       "    }\n",
       "\n",
       "    for(var toolbar_ind in mpl.toolbar_items) {\n",
       "        var name = mpl.toolbar_items[toolbar_ind][0];\n",
       "        var tooltip = mpl.toolbar_items[toolbar_ind][1];\n",
       "        var image = mpl.toolbar_items[toolbar_ind][2];\n",
       "        var method_name = mpl.toolbar_items[toolbar_ind][3];\n",
       "\n",
       "        if (!name) {\n",
       "            // put a spacer in here.\n",
       "            continue;\n",
       "        }\n",
       "        var button = $('<button/>');\n",
       "        button.addClass('ui-button ui-widget ui-state-default ui-corner-all ' +\n",
       "                        'ui-button-icon-only');\n",
       "        button.attr('role', 'button');\n",
       "        button.attr('aria-disabled', 'false');\n",
       "        button.click(method_name, toolbar_event);\n",
       "        button.mouseover(tooltip, toolbar_mouse_event);\n",
       "\n",
       "        var icon_img = $('<span/>');\n",
       "        icon_img.addClass('ui-button-icon-primary ui-icon');\n",
       "        icon_img.addClass(image);\n",
       "        icon_img.addClass('ui-corner-all');\n",
       "\n",
       "        var tooltip_span = $('<span/>');\n",
       "        tooltip_span.addClass('ui-button-text');\n",
       "        tooltip_span.html(tooltip);\n",
       "\n",
       "        button.append(icon_img);\n",
       "        button.append(tooltip_span);\n",
       "\n",
       "        nav_element.append(button);\n",
       "    }\n",
       "\n",
       "    var fmt_picker_span = $('<span/>');\n",
       "\n",
       "    var fmt_picker = $('<select/>');\n",
       "    fmt_picker.addClass('mpl-toolbar-option ui-widget ui-widget-content');\n",
       "    fmt_picker_span.append(fmt_picker);\n",
       "    nav_element.append(fmt_picker_span);\n",
       "    this.format_dropdown = fmt_picker[0];\n",
       "\n",
       "    for (var ind in mpl.extensions) {\n",
       "        var fmt = mpl.extensions[ind];\n",
       "        var option = $(\n",
       "            '<option/>', {selected: fmt === mpl.default_extension}).html(fmt);\n",
       "        fmt_picker.append(option)\n",
       "    }\n",
       "\n",
       "    // Add hover states to the ui-buttons\n",
       "    $( \".ui-button\" ).hover(\n",
       "        function() { $(this).addClass(\"ui-state-hover\");},\n",
       "        function() { $(this).removeClass(\"ui-state-hover\");}\n",
       "    );\n",
       "\n",
       "    var status_bar = $('<span class=\"mpl-message\"/>');\n",
       "    nav_element.append(status_bar);\n",
       "    this.message = status_bar[0];\n",
       "}\n",
       "\n",
       "mpl.figure.prototype.request_resize = function(x_pixels, y_pixels) {\n",
       "    // Request matplotlib to resize the figure. Matplotlib will then trigger a resize in the client,\n",
       "    // which will in turn request a refresh of the image.\n",
       "    this.send_message('resize', {'width': x_pixels, 'height': y_pixels});\n",
       "}\n",
       "\n",
       "mpl.figure.prototype.send_message = function(type, properties) {\n",
       "    properties['type'] = type;\n",
       "    properties['figure_id'] = this.id;\n",
       "    this.ws.send(JSON.stringify(properties));\n",
       "}\n",
       "\n",
       "mpl.figure.prototype.send_draw_message = function() {\n",
       "    if (!this.waiting) {\n",
       "        this.waiting = true;\n",
       "        this.ws.send(JSON.stringify({type: \"draw\", figure_id: this.id}));\n",
       "    }\n",
       "}\n",
       "\n",
       "\n",
       "mpl.figure.prototype.handle_save = function(fig, msg) {\n",
       "    var format_dropdown = fig.format_dropdown;\n",
       "    var format = format_dropdown.options[format_dropdown.selectedIndex].value;\n",
       "    fig.ondownload(fig, format);\n",
       "}\n",
       "\n",
       "\n",
       "mpl.figure.prototype.handle_resize = function(fig, msg) {\n",
       "    var size = msg['size'];\n",
       "    if (size[0] != fig.canvas.width || size[1] != fig.canvas.height) {\n",
       "        fig._resize_canvas(size[0], size[1]);\n",
       "        fig.send_message(\"refresh\", {});\n",
       "    };\n",
       "}\n",
       "\n",
       "mpl.figure.prototype.handle_rubberband = function(fig, msg) {\n",
       "    var x0 = msg['x0'] / mpl.ratio;\n",
       "    var y0 = (fig.canvas.height - msg['y0']) / mpl.ratio;\n",
       "    var x1 = msg['x1'] / mpl.ratio;\n",
       "    var y1 = (fig.canvas.height - msg['y1']) / mpl.ratio;\n",
       "    x0 = Math.floor(x0) + 0.5;\n",
       "    y0 = Math.floor(y0) + 0.5;\n",
       "    x1 = Math.floor(x1) + 0.5;\n",
       "    y1 = Math.floor(y1) + 0.5;\n",
       "    var min_x = Math.min(x0, x1);\n",
       "    var min_y = Math.min(y0, y1);\n",
       "    var width = Math.abs(x1 - x0);\n",
       "    var height = Math.abs(y1 - y0);\n",
       "\n",
       "    fig.rubberband_context.clearRect(\n",
       "        0, 0, fig.canvas.width, fig.canvas.height);\n",
       "\n",
       "    fig.rubberband_context.strokeRect(min_x, min_y, width, height);\n",
       "}\n",
       "\n",
       "mpl.figure.prototype.handle_figure_label = function(fig, msg) {\n",
       "    // Updates the figure title.\n",
       "    fig.header.textContent = msg['label'];\n",
       "}\n",
       "\n",
       "mpl.figure.prototype.handle_cursor = function(fig, msg) {\n",
       "    var cursor = msg['cursor'];\n",
       "    switch(cursor)\n",
       "    {\n",
       "    case 0:\n",
       "        cursor = 'pointer';\n",
       "        break;\n",
       "    case 1:\n",
       "        cursor = 'default';\n",
       "        break;\n",
       "    case 2:\n",
       "        cursor = 'crosshair';\n",
       "        break;\n",
       "    case 3:\n",
       "        cursor = 'move';\n",
       "        break;\n",
       "    }\n",
       "    fig.rubberband_canvas.style.cursor = cursor;\n",
       "}\n",
       "\n",
       "mpl.figure.prototype.handle_message = function(fig, msg) {\n",
       "    fig.message.textContent = msg['message'];\n",
       "}\n",
       "\n",
       "mpl.figure.prototype.handle_draw = function(fig, msg) {\n",
       "    // Request the server to send over a new figure.\n",
       "    fig.send_draw_message();\n",
       "}\n",
       "\n",
       "mpl.figure.prototype.handle_image_mode = function(fig, msg) {\n",
       "    fig.image_mode = msg['mode'];\n",
       "}\n",
       "\n",
       "mpl.figure.prototype.updated_canvas_event = function() {\n",
       "    // Called whenever the canvas gets updated.\n",
       "    this.send_message(\"ack\", {});\n",
       "}\n",
       "\n",
       "// A function to construct a web socket function for onmessage handling.\n",
       "// Called in the figure constructor.\n",
       "mpl.figure.prototype._make_on_message_function = function(fig) {\n",
       "    return function socket_on_message(evt) {\n",
       "        if (evt.data instanceof Blob) {\n",
       "            /* FIXME: We get \"Resource interpreted as Image but\n",
       "             * transferred with MIME type text/plain:\" errors on\n",
       "             * Chrome.  But how to set the MIME type?  It doesn't seem\n",
       "             * to be part of the websocket stream */\n",
       "            evt.data.type = \"image/png\";\n",
       "\n",
       "            /* Free the memory for the previous frames */\n",
       "            if (fig.imageObj.src) {\n",
       "                (window.URL || window.webkitURL).revokeObjectURL(\n",
       "                    fig.imageObj.src);\n",
       "            }\n",
       "\n",
       "            fig.imageObj.src = (window.URL || window.webkitURL).createObjectURL(\n",
       "                evt.data);\n",
       "            fig.updated_canvas_event();\n",
       "            fig.waiting = false;\n",
       "            return;\n",
       "        }\n",
       "        else if (typeof evt.data === 'string' && evt.data.slice(0, 21) == \"data:image/png;base64\") {\n",
       "            fig.imageObj.src = evt.data;\n",
       "            fig.updated_canvas_event();\n",
       "            fig.waiting = false;\n",
       "            return;\n",
       "        }\n",
       "\n",
       "        var msg = JSON.parse(evt.data);\n",
       "        var msg_type = msg['type'];\n",
       "\n",
       "        // Call the  \"handle_{type}\" callback, which takes\n",
       "        // the figure and JSON message as its only arguments.\n",
       "        try {\n",
       "            var callback = fig[\"handle_\" + msg_type];\n",
       "        } catch (e) {\n",
       "            console.log(\"No handler for the '\" + msg_type + \"' message type: \", msg);\n",
       "            return;\n",
       "        }\n",
       "\n",
       "        if (callback) {\n",
       "            try {\n",
       "                // console.log(\"Handling '\" + msg_type + \"' message: \", msg);\n",
       "                callback(fig, msg);\n",
       "            } catch (e) {\n",
       "                console.log(\"Exception inside the 'handler_\" + msg_type + \"' callback:\", e, e.stack, msg);\n",
       "            }\n",
       "        }\n",
       "    };\n",
       "}\n",
       "\n",
       "// from http://stackoverflow.com/questions/1114465/getting-mouse-location-in-canvas\n",
       "mpl.findpos = function(e) {\n",
       "    //this section is from http://www.quirksmode.org/js/events_properties.html\n",
       "    var targ;\n",
       "    if (!e)\n",
       "        e = window.event;\n",
       "    if (e.target)\n",
       "        targ = e.target;\n",
       "    else if (e.srcElement)\n",
       "        targ = e.srcElement;\n",
       "    if (targ.nodeType == 3) // defeat Safari bug\n",
       "        targ = targ.parentNode;\n",
       "\n",
       "    // jQuery normalizes the pageX and pageY\n",
       "    // pageX,Y are the mouse positions relative to the document\n",
       "    // offset() returns the position of the element relative to the document\n",
       "    var x = e.pageX - $(targ).offset().left;\n",
       "    var y = e.pageY - $(targ).offset().top;\n",
       "\n",
       "    return {\"x\": x, \"y\": y};\n",
       "};\n",
       "\n",
       "/*\n",
       " * return a copy of an object with only non-object keys\n",
       " * we need this to avoid circular references\n",
       " * http://stackoverflow.com/a/24161582/3208463\n",
       " */\n",
       "function simpleKeys (original) {\n",
       "  return Object.keys(original).reduce(function (obj, key) {\n",
       "    if (typeof original[key] !== 'object')\n",
       "        obj[key] = original[key]\n",
       "    return obj;\n",
       "  }, {});\n",
       "}\n",
       "\n",
       "mpl.figure.prototype.mouse_event = function(event, name) {\n",
       "    var canvas_pos = mpl.findpos(event)\n",
       "\n",
       "    if (name === 'button_press')\n",
       "    {\n",
       "        this.canvas.focus();\n",
       "        this.canvas_div.focus();\n",
       "    }\n",
       "\n",
       "    var x = canvas_pos.x * mpl.ratio;\n",
       "    var y = canvas_pos.y * mpl.ratio;\n",
       "\n",
       "    this.send_message(name, {x: x, y: y, button: event.button,\n",
       "                             step: event.step,\n",
       "                             guiEvent: simpleKeys(event)});\n",
       "\n",
       "    /* This prevents the web browser from automatically changing to\n",
       "     * the text insertion cursor when the button is pressed.  We want\n",
       "     * to control all of the cursor setting manually through the\n",
       "     * 'cursor' event from matplotlib */\n",
       "    event.preventDefault();\n",
       "    return false;\n",
       "}\n",
       "\n",
       "mpl.figure.prototype._key_event_extra = function(event, name) {\n",
       "    // Handle any extra behaviour associated with a key event\n",
       "}\n",
       "\n",
       "mpl.figure.prototype.key_event = function(event, name) {\n",
       "\n",
       "    // Prevent repeat events\n",
       "    if (name == 'key_press')\n",
       "    {\n",
       "        if (event.which === this._key)\n",
       "            return;\n",
       "        else\n",
       "            this._key = event.which;\n",
       "    }\n",
       "    if (name == 'key_release')\n",
       "        this._key = null;\n",
       "\n",
       "    var value = '';\n",
       "    if (event.ctrlKey && event.which != 17)\n",
       "        value += \"ctrl+\";\n",
       "    if (event.altKey && event.which != 18)\n",
       "        value += \"alt+\";\n",
       "    if (event.shiftKey && event.which != 16)\n",
       "        value += \"shift+\";\n",
       "\n",
       "    value += 'k';\n",
       "    value += event.which.toString();\n",
       "\n",
       "    this._key_event_extra(event, name);\n",
       "\n",
       "    this.send_message(name, {key: value,\n",
       "                             guiEvent: simpleKeys(event)});\n",
       "    return false;\n",
       "}\n",
       "\n",
       "mpl.figure.prototype.toolbar_button_onclick = function(name) {\n",
       "    if (name == 'download') {\n",
       "        this.handle_save(this, null);\n",
       "    } else {\n",
       "        this.send_message(\"toolbar_button\", {name: name});\n",
       "    }\n",
       "};\n",
       "\n",
       "mpl.figure.prototype.toolbar_button_onmouseover = function(tooltip) {\n",
       "    this.message.textContent = tooltip;\n",
       "};\n",
       "mpl.toolbar_items = [[\"Home\", \"Reset original view\", \"fa fa-home icon-home\", \"home\"], [\"Back\", \"Back to  previous view\", \"fa fa-arrow-left icon-arrow-left\", \"back\"], [\"Forward\", \"Forward to next view\", \"fa fa-arrow-right icon-arrow-right\", \"forward\"], [\"\", \"\", \"\", \"\"], [\"Pan\", \"Pan axes with left mouse, zoom with right\", \"fa fa-arrows icon-move\", \"pan\"], [\"Zoom\", \"Zoom to rectangle\", \"fa fa-square-o icon-check-empty\", \"zoom\"], [\"\", \"\", \"\", \"\"], [\"Download\", \"Download plot\", \"fa fa-floppy-o icon-save\", \"download\"]];\n",
       "\n",
       "mpl.extensions = [\"eps\", \"jpeg\", \"pdf\", \"png\", \"ps\", \"raw\", \"svg\", \"tif\"];\n",
       "\n",
       "mpl.default_extension = \"png\";var comm_websocket_adapter = function(comm) {\n",
       "    // Create a \"websocket\"-like object which calls the given IPython comm\n",
       "    // object with the appropriate methods. Currently this is a non binary\n",
       "    // socket, so there is still some room for performance tuning.\n",
       "    var ws = {};\n",
       "\n",
       "    ws.close = function() {\n",
       "        comm.close()\n",
       "    };\n",
       "    ws.send = function(m) {\n",
       "        //console.log('sending', m);\n",
       "        comm.send(m);\n",
       "    };\n",
       "    // Register the callback with on_msg.\n",
       "    comm.on_msg(function(msg) {\n",
       "        //console.log('receiving', msg['content']['data'], msg);\n",
       "        // Pass the mpl event to the overriden (by mpl) onmessage function.\n",
       "        ws.onmessage(msg['content']['data'])\n",
       "    });\n",
       "    return ws;\n",
       "}\n",
       "\n",
       "mpl.mpl_figure_comm = function(comm, msg) {\n",
       "    // This is the function which gets called when the mpl process\n",
       "    // starts-up an IPython Comm through the \"matplotlib\" channel.\n",
       "\n",
       "    var id = msg.content.data.id;\n",
       "    // Get hold of the div created by the display call when the Comm\n",
       "    // socket was opened in Python.\n",
       "    var element = $(\"#\" + id);\n",
       "    var ws_proxy = comm_websocket_adapter(comm)\n",
       "\n",
       "    function ondownload(figure, format) {\n",
       "        window.open(figure.imageObj.src);\n",
       "    }\n",
       "\n",
       "    var fig = new mpl.figure(id, ws_proxy,\n",
       "                           ondownload,\n",
       "                           element.get(0));\n",
       "\n",
       "    // Call onopen now - mpl needs it, as it is assuming we've passed it a real\n",
       "    // web socket which is closed, not our websocket->open comm proxy.\n",
       "    ws_proxy.onopen();\n",
       "\n",
       "    fig.parent_element = element.get(0);\n",
       "    fig.cell_info = mpl.find_output_cell(\"<div id='\" + id + \"'></div>\");\n",
       "    if (!fig.cell_info) {\n",
       "        console.error(\"Failed to find cell for figure\", id, fig);\n",
       "        return;\n",
       "    }\n",
       "\n",
       "    var output_index = fig.cell_info[2]\n",
       "    var cell = fig.cell_info[0];\n",
       "\n",
       "};\n",
       "\n",
       "mpl.figure.prototype.handle_close = function(fig, msg) {\n",
       "    var width = fig.canvas.width/mpl.ratio\n",
       "    fig.root.unbind('remove')\n",
       "\n",
       "    // Update the output cell to use the data from the current canvas.\n",
       "    fig.push_to_output();\n",
       "    var dataURL = fig.canvas.toDataURL();\n",
       "    // Re-enable the keyboard manager in IPython - without this line, in FF,\n",
       "    // the notebook keyboard shortcuts fail.\n",
       "    IPython.keyboard_manager.enable()\n",
       "    $(fig.parent_element).html('<img src=\"' + dataURL + '\" width=\"' + width + '\">');\n",
       "    fig.close_ws(fig, msg);\n",
       "}\n",
       "\n",
       "mpl.figure.prototype.close_ws = function(fig, msg){\n",
       "    fig.send_message('closing', msg);\n",
       "    // fig.ws.close()\n",
       "}\n",
       "\n",
       "mpl.figure.prototype.push_to_output = function(remove_interactive) {\n",
       "    // Turn the data on the canvas into data in the output cell.\n",
       "    var width = this.canvas.width/mpl.ratio\n",
       "    var dataURL = this.canvas.toDataURL();\n",
       "    this.cell_info[1]['text/html'] = '<img src=\"' + dataURL + '\" width=\"' + width + '\">';\n",
       "}\n",
       "\n",
       "mpl.figure.prototype.updated_canvas_event = function() {\n",
       "    // Tell IPython that the notebook contents must change.\n",
       "    IPython.notebook.set_dirty(true);\n",
       "    this.send_message(\"ack\", {});\n",
       "    var fig = this;\n",
       "    // Wait a second, then push the new image to the DOM so\n",
       "    // that it is saved nicely (might be nice to debounce this).\n",
       "    setTimeout(function () { fig.push_to_output() }, 1000);\n",
       "}\n",
       "\n",
       "mpl.figure.prototype._init_toolbar = function() {\n",
       "    var fig = this;\n",
       "\n",
       "    var nav_element = $('<div/>')\n",
       "    nav_element.attr('style', 'width: 100%');\n",
       "    this.root.append(nav_element);\n",
       "\n",
       "    // Define a callback function for later on.\n",
       "    function toolbar_event(event) {\n",
       "        return fig.toolbar_button_onclick(event['data']);\n",
       "    }\n",
       "    function toolbar_mouse_event(event) {\n",
       "        return fig.toolbar_button_onmouseover(event['data']);\n",
       "    }\n",
       "\n",
       "    for(var toolbar_ind in mpl.toolbar_items){\n",
       "        var name = mpl.toolbar_items[toolbar_ind][0];\n",
       "        var tooltip = mpl.toolbar_items[toolbar_ind][1];\n",
       "        var image = mpl.toolbar_items[toolbar_ind][2];\n",
       "        var method_name = mpl.toolbar_items[toolbar_ind][3];\n",
       "\n",
       "        if (!name) { continue; };\n",
       "\n",
       "        var button = $('<button class=\"btn btn-default\" href=\"#\" title=\"' + name + '\"><i class=\"fa ' + image + ' fa-lg\"></i></button>');\n",
       "        button.click(method_name, toolbar_event);\n",
       "        button.mouseover(tooltip, toolbar_mouse_event);\n",
       "        nav_element.append(button);\n",
       "    }\n",
       "\n",
       "    // Add the status bar.\n",
       "    var status_bar = $('<span class=\"mpl-message\" style=\"text-align:right; float: right;\"/>');\n",
       "    nav_element.append(status_bar);\n",
       "    this.message = status_bar[0];\n",
       "\n",
       "    // Add the close button to the window.\n",
       "    var buttongrp = $('<div class=\"btn-group inline pull-right\"></div>');\n",
       "    var button = $('<button class=\"btn btn-mini btn-primary\" href=\"#\" title=\"Stop Interaction\"><i class=\"fa fa-power-off icon-remove icon-large\"></i></button>');\n",
       "    button.click(function (evt) { fig.handle_close(fig, {}); } );\n",
       "    button.mouseover('Stop Interaction', toolbar_mouse_event);\n",
       "    buttongrp.append(button);\n",
       "    var titlebar = this.root.find($('.ui-dialog-titlebar'));\n",
       "    titlebar.prepend(buttongrp);\n",
       "}\n",
       "\n",
       "mpl.figure.prototype._root_extra_style = function(el){\n",
       "    var fig = this\n",
       "    el.on(\"remove\", function(){\n",
       "\tfig.close_ws(fig, {});\n",
       "    });\n",
       "}\n",
       "\n",
       "mpl.figure.prototype._canvas_extra_style = function(el){\n",
       "    // this is important to make the div 'focusable\n",
       "    el.attr('tabindex', 0)\n",
       "    // reach out to IPython and tell the keyboard manager to turn it's self\n",
       "    // off when our div gets focus\n",
       "\n",
       "    // location in version 3\n",
       "    if (IPython.notebook.keyboard_manager) {\n",
       "        IPython.notebook.keyboard_manager.register_events(el);\n",
       "    }\n",
       "    else {\n",
       "        // location in version 2\n",
       "        IPython.keyboard_manager.register_events(el);\n",
       "    }\n",
       "\n",
       "}\n",
       "\n",
       "mpl.figure.prototype._key_event_extra = function(event, name) {\n",
       "    var manager = IPython.notebook.keyboard_manager;\n",
       "    if (!manager)\n",
       "        manager = IPython.keyboard_manager;\n",
       "\n",
       "    // Check for shift+enter\n",
       "    if (event.shiftKey && event.which == 13) {\n",
       "        this.canvas_div.blur();\n",
       "        // select the cell after this one\n",
       "        var index = IPython.notebook.find_cell_index(this.cell_info[0]);\n",
       "        IPython.notebook.select(index + 1);\n",
       "    }\n",
       "}\n",
       "\n",
       "mpl.figure.prototype.handle_save = function(fig, msg) {\n",
       "    fig.ondownload(fig, null);\n",
       "}\n",
       "\n",
       "\n",
       "mpl.find_output_cell = function(html_output) {\n",
       "    // Return the cell and output element which can be found *uniquely* in the notebook.\n",
       "    // Note - this is a bit hacky, but it is done because the \"notebook_saving.Notebook\"\n",
       "    // IPython event is triggered only after the cells have been serialised, which for\n",
       "    // our purposes (turning an active figure into a static one), is too late.\n",
       "    var cells = IPython.notebook.get_cells();\n",
       "    var ncells = cells.length;\n",
       "    for (var i=0; i<ncells; i++) {\n",
       "        var cell = cells[i];\n",
       "        if (cell.cell_type === 'code'){\n",
       "            for (var j=0; j<cell.output_area.outputs.length; j++) {\n",
       "                var data = cell.output_area.outputs[j];\n",
       "                if (data.data) {\n",
       "                    // IPython >= 3 moved mimebundle to data attribute of output\n",
       "                    data = data.data;\n",
       "                }\n",
       "                if (data['text/html'] == html_output) {\n",
       "                    return [cell, data, j];\n",
       "                }\n",
       "            }\n",
       "        }\n",
       "    }\n",
       "}\n",
       "\n",
       "// Register the function which deals with the matplotlib target/channel.\n",
       "// The kernel may be null if the page has been refreshed.\n",
       "if (IPython.notebook.kernel != null) {\n",
       "    IPython.notebook.kernel.comm_manager.register_target('matplotlib', mpl.mpl_figure_comm);\n",
       "}\n"
      ],
      "text/plain": [
       "<IPython.core.display.Javascript object>"
      ]
     },
     "metadata": {},
     "output_type": "display_data"
    },
    {
     "data": {
      "text/html": [
       "<img src=\"data:image/png;base64,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\" width=\"1000\">"
      ],
      "text/plain": [
       "<IPython.core.display.HTML object>"
      ]
     },
     "metadata": {},
     "output_type": "display_data"
    }
   ],
   "source": [
    "fourier_pairs_plot()"
   ]
  },
  {
   "cell_type": "markdown",
   "metadata": {
    "slideshow": {
     "slide_type": "slide"
    }
   },
   "source": [
    "The common Fourier pairs are especially useful in light of the convolution theorem. Fourier transforms convert convolutions into point-wise products. We define a convolution as:\n",
    "\n",
    "$$ [f \\ast g] (t) = \\int_{-\\infty}^{\\infty} f(\\tau) \\,g(t - \\tau) \\,d\\tau,$$\n",
    "\n",
    "where $\\ast$ is the convolution symbol. From the convolution theorem:\n",
    "\n",
    "$$ \\mathcal{F} \\{f \\ast g\\} = \\mathcal{F}(f)  \\mathcal{F}(g) $$\n",
    "\n",
    "Furthermore, the Fourier transform of a product is equal to the convolution of the Fourier transforms:\n",
    "\n",
    "$$ \\mathcal{F}\\{f \\cdot g\\} = \\mathcal{F}(f) \\ast \\mathcal{F}(g) $$\n",
    "\n",
    "This property will be very important for understanding the Lomb-Scargle periodogram. "
   ]
  },
  {
   "cell_type": "markdown",
   "metadata": {
    "slideshow": {
     "slide_type": "slide"
    }
   },
   "source": [
    "Fourier transforms are all well and good, but ultimately we desire a measure of periodicity in actual observations of astrophysical sources, which cannot be (a) continuous, or (b) infinite. \n",
    "\n",
    "The first thing to understand with real world observations is the Nyquist frequency limit. If observations are obtained in a uniformly spaced manner at a rate of $f_0 = 1/T$ one can only recover the frequncy information if the signal is band-limited between frequencies $\\pm f_0/2$. Put another way, the highest frequency that can be detected in such data is $f_0/2$."
   ]
  },
  {
   "cell_type": "markdown",
   "metadata": {
    "slideshow": {
     "slide_type": "slide"
    }
   },
   "source": [
    "This result can be (somewhat) intuited by looking at simulated data.\n",
    "\n",
    "**Problem 2a**\n",
    "\n",
    "Generate and plot a periodic signal with $f = f_\\mathrm{Ny} = 1/2$ on a grid from 0 to 10, comprising of 10 even samples (i.e., 0, 1, 2, 3, ..., 10). Overplot the underlying signal in addition to the observations."
   ]
  },
  {
   "cell_type": "code",
   "execution_count": 35,
   "metadata": {
    "slideshow": {
     "slide_type": "slide"
    }
   },
   "outputs": [
    {
     "name": "stdout",
     "output_type": "stream",
     "text": [
      "[ 0  1  2  3  4  5  6  7  8  9 10]\n"
     ]
    },
    {
     "data": {
      "image/png": "[encoded data removed]",
      "text/plain": [
       "<matplotlib.figure.Figure at 0x151e9c6a90>"
      ]
     },
     "metadata": {},
     "output_type": "display_data"
    }
   ],
   "source": [
    "A=1\n",
    "P=2 # period = 1/f\n",
    "phi=np.pi/2.0\n",
    "\n",
    "x = np.arange(11)# complete\n",
    "print(x)\n",
    "y = gen_periodic_data(x,A,P,phi)# complete\n",
    "\n",
    "x_signal= np.linspace(0,10,100)# complete\n",
    "y_signal = gen_periodic_data(x_signal,A,P,phi) # complete\n",
    "\n",
    "fig, ax = plt.subplots()\n",
    "ax.scatter(x,y) # complete\n",
    "ax.plot(x_signal,y_signal) # complete\n",
    "fig.tight_layout()"
   ]
  },
  {
   "cell_type": "markdown",
   "metadata": {
    "slideshow": {
     "slide_type": "slide"
    }
   },
   "source": [
    "Sampling a signal directly at the Nyquist frequency results in a lack of any variability. But does this just mean that $f_\\mathrm{Ny}$ is special? What happens at $f > f_\\mathrm{Ny}$?\n",
    "\n",
    "**Problem 2b**\n",
    "\n",
    "As above, generate and plot a periodic signal with $f = 0.7$ on an even grid from 0 to 10. Overplot the underlying signal in addition to the observations."
   ]
  },
  {
   "cell_type": "code",
   "execution_count": 60,
   "metadata": {
    "slideshow": {
     "slide_type": "slide"
    }
   },
   "outputs": [
    {
     "name": "stdout",
     "output_type": "stream",
     "text": [
      "[ 0  1  2  3  4  5  6  7  8  9 10]\n"
     ]
    },
    {
     "data": {
      "image/png": "[encoded data removed]",
      "text/plain": [
       "<matplotlib.figure.Figure at 0x151ee9c0b8>"
      ]
     },
     "metadata": {},
     "output_type": "display_data"
    }
   ],
   "source": [
    "A=1\n",
    "P=1/0.7 # period = 1/f\n",
    "phi=np.pi/2.0\n",
    "\n",
    "x = np.arange(11)# complete\n",
    "print(x)\n",
    "y = gen_periodic_data(x,A,P,phi)# complete\n",
    "\n",
    "x_signal= np.linspace(0,10,500)# complete\n",
    "y_signal = gen_periodic_data(x_signal,A,P,phi) # complete\n",
    "\n",
    "x_signal2= np.linspace(0,10,500)\n",
    "y_signal2 = gen_periodic_data(x_signal,A,2.34*P,phi+2*np.pi/2)\n",
    "\n",
    "fig, ax = plt.subplots()\n",
    "ax.scatter(x,y) # complete\n",
    "ax.plot(x_signal,y_signal) # complete\n",
    "ax.plot(x_signal2,y_signal2) # complete\n",
    "\n",
    "fig.tight_layout()"
   ]
  },
  {
   "cell_type": "markdown",
   "metadata": {
    "slideshow": {
     "slide_type": "slide"
    }
   },
   "source": [
    "From the plot the signal is clearly variable (unlike when $f = f_\\mathrm{Ny}$). However, there are fewer than 2 observations per cycle.\n",
    "\n",
    "**Problem 2c**\n",
    "\n",
    "Overplot a source with $f = 2.7$ on the same data shown in **2b**."
   ]
  },
  {
   "cell_type": "code",
   "execution_count": 59,
   "metadata": {
    "slideshow": {
     "slide_type": "slide"
    }
   },
   "outputs": [
    {
     "name": "stdout",
     "output_type": "stream",
     "text": [
      "[ 0  1  2  3  4  5  6  7  8  9 10]\n"
     ]
    },
    {
     "data": {
      "image/png": "[encoded data removed]",
      "text/plain": [
       "<matplotlib.figure.Figure at 0x110b4f080>"
      ]
     },
     "metadata": {},
     "output_type": "display_data"
    }
   ],
   "source": [
    "A=1\n",
    "P=1/0.7 # period = 1/f\n",
    "phi=np.pi/2.0\n",
    "\n",
    "x = np.arange(11)# complete\n",
    "print(x)\n",
    "y = gen_periodic_data(x,A,P,phi)# complete\n",
    "\n",
    "x_signal= np.linspace(0,10,500)# complete\n",
    "y_signal = gen_periodic_data(x_signal,A,P,phi) # complete\n",
    "\n",
    "x_signal2= np.linspace(0,10,500)# complete\n",
    "y_signal2 = gen_periodic_data(x_signal,A,1/2.7,phi) # complete\n",
    "\n",
    "fig, ax = plt.subplots()\n",
    "ax.scatter(x,y) # complete\n",
    "ax.plot(x_signal,y_signal) # complete\n",
    "ax.plot(x_signal2,y_signal2) # comple\n",
    "fig.tight_layout()"
   ]
  },
  {
   "cell_type": "markdown",
   "metadata": {
    "slideshow": {
     "slide_type": "slide"
    }
   },
   "source": [
    "The observations are identical! Here is what you need to remember about the Nyquist frequency:\n",
    "\n",
    "  1. If you are going to obtain observations at *regular intervals*, and there is a specific signal you wish to detect, then be sure to sample the data such that $f_\\mathrm{Ny} > f_\\mathrm{signal}$.\n",
    "  2. For all $f > f_\\mathrm{Ny}$, $f$ will be aliased with $f \\pm 2n f_\\mathrm{Ny}$ signals, where $n$ is an integer. Practically speaking, this means it does not make sense to search for signals with $f > f_\\mathrm{Ny}$.\n",
    "  3. Finally, (and this is something that is often wrong in the literature) there is no Nyquist limit for unevenly sampled data (see VanderPlas 2017 for further details). Thus, for (virtually all) ground-based observing one need not worry about the Nyquist limit."
   ]
  },
  {
   "cell_type": "markdown",
   "metadata": {
    "slideshow": {
     "slide_type": "slide"
    }
   },
   "source": [
    "Staying on the topic of non-continuous observations, I present without derivation the discrete Fourier transform:\n",
    "\n",
    "$$ \\hat g_\\mathrm{obs}(f) = \\sum_{n = 0}^N g_n\\,e^{-2\\pi i f n\\Delta t}$$\n",
    "\n",
    "where $g_n = g(n\\Delta t)$, and $\\Delta t$ is the sampling interval. Our discussion of the Nyquist frequency tells us that we cannot detect frequencies $f > 1/2\\Delta T$. Thus, the relevant frequencies to search for power given $\\Delta t$ are between 0 and $f_\\mathrm{Ny}$, which we can sample on a grid $\\Delta f = 1/(N \\Delta t)$. From there:\n",
    "\n",
    "$$\\hat g_k = \\sum_{n = 0}^N g_n\\,e^{-2\\pi i f knN}$$\n",
    "\n",
    "where $\\hat g_k = \\hat g_\\mathrm{obs} (k\\Delta f)$. This is the discrete Fourier transform. "
   ]
  },
  {
   "cell_type": "markdown",
   "metadata": {
    "slideshow": {
     "slide_type": "subslide"
    }
   },
   "source": [
    "I said a full derivation will not be provided, and that is true. To understand how we went from a continuous integral to the summation above, recall that regular observations of a continous signal over a finite interval is equivalent to multiplying the continuous signal by a Dirac comb function and a window function. The delta functions from the Dirac comb function collapse the integral to a sum, while the window function limits that sum from $0$ to $N$."
   ]
  },
  {
   "cell_type": "markdown",
   "metadata": {
    "slideshow": {
     "slide_type": "slide"
    }
   },
   "source": [
    "From the discrete Fourier transform we can then calculate the periodogram (an estimator of the power spectrum):\n",
    "\n",
    "$$\\mathcal{P}(f) = \\frac{1}{N}\\left|\\sum_{n=1}^{N} g_n\\,e^{-2\\pi i f knN}\\right|^2$$\n",
    "\n",
    "which is also called the classical periodogram or the Schuster periodogram (Schuster 1898). "
   ]
  },
  {
   "cell_type": "markdown",
   "metadata": {
    "slideshow": {
     "slide_type": "slide"
    }
   },
   "source": [
    "## Problem 3) The LS Periodogram"
   ]
  },
  {
   "cell_type": "markdown",
   "metadata": {
    "slideshow": {
     "slide_type": "slide"
    }
   },
   "source": [
    "Of course, we ultimately care about applications where the data are not perfectly uniformly sampled (even *Kepler* data is not uniformly sampled). We can re-write the classical periodogram in a more general way:\n",
    "\n",
    "$$\\mathcal{P}(f) = \\frac{1}{N}\\left|\\sum_{n=1}^{N} g_n\\,e^{-2\\pi i f t_n}\\right|^2$$\n",
    "\n",
    "where $t_n$ corresponds to the observation times. Irregular sampling removes a lot of the nice statistical properties of the discrete Fourier transform. Scargle (1982) was able to address these issues via a generalized form of the periodogram. \n",
    "\n",
    "[For completeness, there are some long equations that I should include here, but I won't...]"
   ]
  },
  {
   "cell_type": "markdown",
   "metadata": {
    "slideshow": {
     "slide_type": "slide"
    }
   },
   "source": [
    "Instead, I will simplify things slightly by using the fact that Scargle's modified periodogram is identical to the result one obtains by fitting a sinusoid model to the data at each frequency $f$ and constructing a \"periodogram\" from the corresponding $\\chi^2$ values at each frequency $f$ [this was considered in great detail by Lomb (1976)].\n",
    "\n",
    "*Note* - to this day I find this particular identity remarkable."
   ]
  },
  {
   "cell_type": "markdown",
   "metadata": {
    "slideshow": {
     "slide_type": "slide"
    }
   },
   "source": [
    "Thus, using the model:\n",
    "\n",
    "$$y(t;f) = A_f \\sin(2\\pi f(t - \\phi_f)$$\n",
    "\n",
    "we can calculate the $\\chi^2$ for every frequency $f$:\n",
    "\n",
    "$$\\chi^2 = \\sum_n (y_n - y(t_n; f))^2$$\n",
    "\n",
    "The \"best\" model for a given frequency requires the selection of $A_f$ and $\\phi_f$ that minimizes $\\chi^2$, which we will call $\\hat \\chi^2$. Scargle (1982) then showed that the Lomb-Scargle periodogram can be written \n",
    "\n",
    "$$\\mathcal{P}_\\mathrm{LS}(f) = \\frac{1}{2}\\left[ \\hat \\chi^2_0 - \\hat \\chi^2(f) \\right]$$\n",
    "\n",
    "where $\\hat \\chi^2_0$ is the value for a non-varying reference model."
   ]
  },
  {
   "cell_type": "markdown",
   "metadata": {
    "slideshow": {
     "slide_type": "slide"
    }
   },
   "source": [
    "This realization further enables the inclusion of observational uncertainty in the periodogram, via a familiar adjustment to the $\\chi^2$ value:\n",
    "\n",
    "$$\\chi^2 = \\sum_n \\left(\\frac{y_n - y(t_n; f)}{\\sigma_n}\\right)^2$$\n",
    "\n",
    "where $\\sigma_n$ is the uncertainty on the individual measurements, $y_n$. "
   ]
  },
  {
   "cell_type": "markdown",
   "metadata": {
    "slideshow": {
     "slide_type": "slide"
    }
   },
   "source": [
    "From here it follows that we can construct a LS periodogram. \n",
    "\n",
    "**Problem 3a**\n",
    "\n",
    "Write a function, `chi2`, to calculate the $\\chi^2$ given $f$, $A_f$, and $\\phi$, for observations $y_n$ with uncertainties $\\sigma_{y,n}$ taken at times $t_n$."
   ]
  },
  {
   "cell_type": "code",
   "execution_count": 64,
   "metadata": {
    "slideshow": {
     "slide_type": "slide"
    }
   },
   "outputs": [],
   "source": [
    "def chi2(t_obs,y_obs,sig_y,f,theta): # complete\n",
    "    A=theta[0]\n",
    "    phi=theta[1]\n",
    "    y_mod = A*np.sin(2.0*np.pi*f(t_obs-phi)) # model\n",
    "    chi2 = np.sum(((y_obs-y_mod)/sig_y)**2.0)\n",
    "    return chi2"
   ]
  },
  {
   "cell_type": "markdown",
   "metadata": {
    "slideshow": {
     "slide_type": "slide"
    }
   },
   "source": [
    "**Problem 3b**\n",
    "\n",
    "Write a function to minimize the $\\chi^2$ given everything but $A_f$ and $\\phi_f$.\n",
    "\n",
    "*Hint* - you may find [`minimize`](https://docs.scipy.org/doc/scipy/reference/generated/scipy.optimize.minimize.html) within the `scipy` package useful."
   ]
  },
  {
   "cell_type": "code",
   "execution_count": 65,
   "metadata": {
    "slideshow": {
     "slide_type": "slide"
    }
   },
   "outputs": [],
   "source": [
    "def min_chi2(theta,y,y_unc,x,f): # complete\n",
    "    res = minimize(chi2,theta,args=(y,y_unc,x,f)) #pass function to minimise, the parameters to change, and the arguments for function\n",
    "    return res.fun"
   ]
  },
  {
   "cell_type": "markdown",
   "metadata": {
    "slideshow": {
     "slide_type": "slide"
    }
   },
   "source": [
    "**Problem 3c**\n",
    "\n",
    "Write a function, `ls_periodogram`, to calculate the LS periodogram for observations $y$, $\\sigma_y$, $t$ over a frequency grid `f_grid`."
   ]
  },
  {
   "cell_type": "code",
   "execution_count": 66,
   "metadata": {
    "slideshow": {
     "slide_type": "slide"
    }
   },
   "outputs": [],
   "source": [
    "def ls_periodogram(y,y_unc,t,f_grid): # complete\n",
    "    psd = np.empty_like(f_grid)\n",
    "    chi2_0 = np.sum((y-np.mean(y)/y_unc)**2) #assume constant model\n",
    "    for f_num, f in enumerate(f_grid):\n",
    "        psd[f_num] = 0.5*(chi2_0 - min_chi2([0,0],y,y_unc,x,f))\n",
    "    \n",
    "    return psd"
   ]
  },
  {
   "cell_type": "markdown",
   "metadata": {
    "slideshow": {
     "slide_type": "slide"
    }
   },
   "source": [
    "**Problem 3d**\n",
    "\n",
    "Generate a periodic signal with 100 observations taken over a time period of 10 days. Use an input period of 5.25, amplitude of 7.4, and variance of the noise = 0.8. Then compute and plot the periodogram for the simulated data. Do you recover the simulated period?\n",
    "\n",
    "*Hint* - set the minimum frequency in the grid to $1/T$ where $T$ is the duration of the observations. Set the maximum frequnecy to 10, and use an equally spaced grid with 50 points. "
   ]
  },
  {
   "cell_type": "code",
   "execution_count": null,
   "metadata": {
    "collapsed": true,
    "slideshow": {
     "slide_type": "slide"
    }
   },
   "outputs": [],
   "source": [
    "np.random.seed(23)\n",
    "# calculate the periodogram\n",
    "\n",
    "x = 10*np.random.rand(100)\n",
    "y = # complete\n",
    "y_unc = # complete\n",
    "\n",
    "f_grid = # complete\n",
    "\n",
    "psd_ls = # complete"
   ]
  },
  {
   "cell_type": "code",
   "execution_count": null,
   "metadata": {
    "slideshow": {
     "slide_type": "slide"
    }
   },
   "outputs": [],
   "source": [
    "# plot the periodogram\n",
    "fig, ax = plt.subplots()\n",
    "ax.plot( # complete\n",
    "# complete\n",
    "# complete\n",
    "fig.tight_layout()"
   ]
  },
  {
   "cell_type": "markdown",
   "metadata": {
    "slideshow": {
     "slide_type": "slide"
    }
   },
   "source": [
    "**Problem 3e**\n",
    "\n",
    "For the same data, include 1000 points in `f_grid` and calculate and plot the periodogram. \n",
    "\n",
    "Now do you recover the correct period?"
   ]
  },
  {
   "cell_type": "code",
   "execution_count": null,
   "metadata": {
    "slideshow": {
     "slide_type": "slide"
    }
   },
   "outputs": [],
   "source": [
    "# calculate the periodogram\n",
    "f_grid = # complete\n",
    "\n",
    "psd_ls = # complete"
   ]
  },
  {
   "cell_type": "code",
   "execution_count": null,
   "metadata": {
    "slideshow": {
     "slide_type": "slide"
    }
   },
   "outputs": [],
   "source": [
    "# plot the periodogram\n",
    "fig,ax = plt.subplots()\n",
    "\n",
    "ax.plot(# complete\n",
    "# complete\n",
    "# complete\n",
    "fig.tight_layout()\n",
    "\n",
    "print(\"The best fit period is: {:.4f}\".format( # complete"
   ]
  },
  {
   "cell_type": "markdown",
   "metadata": {
    "slideshow": {
     "slide_type": "slide"
    }
   },
   "source": [
    "**Problem 3f**\n",
    "\n",
    "Plot the phase-folded data at the newly found \"best\" fit period."
   ]
  },
  {
   "cell_type": "code",
   "execution_count": null,
   "metadata": {
    "slideshow": {
     "slide_type": "slide"
    }
   },
   "outputs": [],
   "source": [
    "phase_plot( # complete"
   ]
  },
  {
   "cell_type": "markdown",
   "metadata": {
    "slideshow": {
     "slide_type": "slide"
    }
   },
   "source": [
    "### Congratulations\n",
    "\n",
    "You did it! You just developed the software necessary to find periodic signals in sparsely sampled, noisy data.\n",
    "\n",
    "You are ready to conquer LSST."
   ]
  },
  {
   "cell_type": "markdown",
   "metadata": {
    "slideshow": {
     "slide_type": "slide"
    }
   },
   "source": [
    "**But wait!**\n",
    "\n",
    "There should be a few things that are bothering you. \n",
    "\n",
    "First and foremost, why did we use a grid with 50 points and then increase that to 1000 points for the previous simulation?"
   ]
  },
  {
   "cell_type": "markdown",
   "metadata": {
    "slideshow": {
     "slide_type": "slide"
    }
   },
   "source": [
    "There are many important ramifications following the choice of an evaluation grid for the LS periodogram. When selecting the grid upon which to evaluate $f$ one must determine both the limits for the grid and the spacing within the grid. \n",
    "\n",
    "The minimum frequency is straightforward: $f_\\mathrm{min} = 1/T$ corresponds to a signal that experiences 1 cycle in the span of the data. Computationally, $f_\\mathrm{min} = 0$ does not add much time. "
   ]
  },
  {
   "cell_type": "markdown",
   "metadata": {
    "slideshow": {
     "slide_type": "slide"
    }
   },
   "source": [
    "The maximum frequency is straightforward: $f_\\mathrm{Ny}$ (**if** you have evenly spaced data). What if the data are not evenly spaced (a situation for which we said $f_\\mathrm{Ny}$ does not exist? \n",
    "\n",
    "There are many ad-hoc methods described in the literature, such as $f_\\mathrm{max} = 1/<\\Delta T>$, where $<\\Delta T>$ is the mean separation of consecutive observations. Again - this is *not* correct.\n",
    "\n",
    "[VanderPlas (2017)](https://arxiv.org/abs/1703.09824) discuss maximum frequencies for non-uniform data (see that paper for more details). My useful practical advice is to set $f_\\mathrm{max}$ to the maximum frequency that you might expect to see in the data (for example, with the exception of a few extreme white dwarf systems, essentially no stars show periodicity at $< 1\\,\\mathrm{hr}$)."
   ]
  },
  {
   "cell_type": "markdown",
   "metadata": {
    "slideshow": {
     "slide_type": "slide"
    }
   },
   "source": [
    "Of course, we still haven't decided what grid to adopt. As we saw above - if we use too few points, we will not resolve the peak in the periodogram. Alternatively, if we include too many points in the grid we will waste a lot of computation. \n",
    "\n",
    "Fortunately, figuring out $\\Delta f$ is relatively straightfoward: from above we saw that the Fourier transform of a window function of length $T$ produces a sinc signal with width $\\sim 1/T$. Thus, we need $\\Delta f$ to sample $\\sim 1/T$, which means $\\Delta f = 1/n_0T$, where $n_0$ is a constant, and 5 is a good choice for $n_0$."
   ]
  },
  {
   "cell_type": "markdown",
   "metadata": {
    "slideshow": {
     "slide_type": "slide"
    }
   },
   "source": [
    "**Problem 3g**\n",
    "\n",
    "Calculate the optimal grid for sampling LSST data. Assume that the time measurements are carried out in units of days, the survey lasts for 10 years and the shortest period expected in the data is 1 hr. \n",
    "\n",
    "How many evaluations are needed to calculate the periodogram?"
   ]
  },
  {
   "cell_type": "code",
   "execution_count": null,
   "metadata": {
    "slideshow": {
     "slide_type": "slide"
    }
   },
   "outputs": [],
   "source": [
    "f_min = # complete\n",
    "f_max = # complete\n",
    "delta_f = # complete\n",
    "\n",
    "f_grid = np.arange( # complete\n",
    "\n",
    "print(\"{:d} grid points are needed to sample the periodogram\".format( # complete"
   ]
  },
  {
   "cell_type": "markdown",
   "metadata": {
    "slideshow": {
     "slide_type": "slide"
    }
   },
   "source": [
    "## Problem 4) Other Considerations and Faster Implementations"
   ]
  },
  {
   "cell_type": "markdown",
   "metadata": {
    "slideshow": {
     "slide_type": "slide"
    }
   },
   "source": [
    "While `ls_periodogram` functions well, it would take a long time to evaluate $\\sim4\\times 10^5$ frequencies for $\\sim2\\times 10^7$ variable LSST sources. Fortunately, there are significantly faster implementations, including (as you may have guessed) one in `astropy`.\n",
    "\n",
    "**Problem 4a**\n",
    "\n",
    "[`LombScargle`](http://docs.astropy.org/en/stable/stats/lombscargle.html) in `astropy.stats` is fast. Run it below to compare to `ls_periodogram`."
   ]
  },
  {
   "cell_type": "code",
   "execution_count": null,
   "metadata": {
    "collapsed": true,
    "slideshow": {
     "slide_type": "slide"
    }
   },
   "outputs": [],
   "source": [
    "from astropy.stats import LombScargle\n",
    "frequency, power = LombScargle(x, y, y_unc).autopower()"
   ]
  },
  {
   "cell_type": "markdown",
   "metadata": {
    "slideshow": {
     "slide_type": "slide"
    }
   },
   "source": [
    "Unlike `ls_periodogram`, `LombScargle` effectively takes no time to run on the simulated data. \n",
    "\n",
    "**Problem 4b**\n",
    "\n",
    "Plot the periodogram for the simulated data."
   ]
  },
  {
   "cell_type": "code",
   "execution_count": null,
   "metadata": {
    "slideshow": {
     "slide_type": "slide"
    }
   },
   "outputs": [],
   "source": [
    "fig, ax = plt.subplots()\n",
    "\n",
    "ax.plot( # complete\n",
    "# complete\n",
    "# complete\n",
    "# complete\n",
    "fig.tight_layout()"
   ]
  },
  {
   "cell_type": "markdown",
   "metadata": {
    "slideshow": {
     "slide_type": "slide"
    }
   },
   "source": [
    "There are many choices regarding the calculation of the periodogram, so [read the docs](http://docs.astropy.org/en/stable/api/astropy.stats.LombScargle.html#astropy.stats.LombScargle)."
   ]
  },
  {
   "cell_type": "markdown",
   "metadata": {
    "slideshow": {
     "slide_type": "slide"
    }
   },
   "source": [
    "### Floating Mean Periodogram\n",
    "\n",
    "A basic assumption that we preivously made is that the data are \"centered\" - in other words, our model explicitly assumes that the signal oscillates about a mean of 0.\n",
    "\n",
    "For astronomical applications, this assumption can be harmful. Instead, it is useful to fit for the mean of the signal in addition to the periodic component (as is the default in `LombScargle`):\n",
    "\n",
    "$$y(t;f) = y_0(f) + A_f \\sin(2\\pi f(t - \\phi_f).$$"
   ]
  },
  {
   "cell_type": "markdown",
   "metadata": {
    "slideshow": {
     "slide_type": "slide"
    }
   },
   "source": [
    "To illustrate why this is important for astronomy, assume that any signal fainter than $-2$ in our simulated data cannot be detected. \n",
    "\n",
    "**Problem 4c**\n",
    "\n",
    "Remove the observations from `x` and `y` where $y \\le -2$ and calculate the periodogram both with and without fitting the mean (`fit_mean = False` in the call to `LombScargle`). Plot the periodograms. Do both methods recover the correct period? "
   ]
  },
  {
   "cell_type": "code",
   "execution_count": null,
   "metadata": {
    "slideshow": {
     "slide_type": "slide"
    }
   },
   "outputs": [],
   "source": [
    "# complete\n",
    "freq_no_mean, power_no_mean = LombScargle( # complete\n",
    "freq_fit_mean, power_fit_mean = LombScargle( # complete\n",
    "    \n",
    "fig, (ax1, ax2) = plt.subplots(2, 1, sharex=True)\n",
    "ax1.plot( # complete\n",
    "ax2.plot( # complete\n",
    "ax1.set_xlim(0,15)\n",
    "\n",
    "fig.tight_layout()"
   ]
  },
  {
   "cell_type": "markdown",
   "metadata": {
    "slideshow": {
     "slide_type": "slide"
    }
   },
   "source": [
    "We can see that the best fit model doesn't match the signal in the case where we do not allow a floating mean."
   ]
  },
  {
   "cell_type": "code",
   "execution_count": null,
   "metadata": {
    "slideshow": {
     "slide_type": "slide"
    }
   },
   "outputs": [],
   "source": [
    "fit_mean_model = LombScargle(x[bright], y[bright], y_unc[bright], \n",
    "                             fit_mean=True).model(np.linspace(0,10,1000),\n",
    "                                                  freq_fit_mean[np.argmax(power_fit_mean)])\n",
    "no_mean_model = LombScargle(x[bright], y[bright], y_unc[bright], \n",
    "                             fit_mean=False).model(np.linspace(0,10,1000),\n",
    "                                                  freq_no_mean[np.argmax(power_no_mean)])\n",
    "\n",
    "fig, ax = plt.subplots()\n",
    "ax.errorbar(x[bright], y[bright], y_unc[bright], fmt='o', label='data')\n",
    "ax.plot(np.linspace(0,10,1000), fit_mean_model, label='fit mean')\n",
    "ax.plot(np.linspace(0,10,1000), no_mean_model, label='no mean')\n",
    "ax.set_xlabel('x')\n",
    "ax.set_ylabel('y')\n",
    "ax.legend()\n",
    "fig.tight_layout()"
   ]
  },
  {
   "cell_type": "markdown",
   "metadata": {
    "slideshow": {
     "slide_type": "slide"
    }
   },
   "source": [
    "### Window Functions\n",
    "\n",
    "Recall that the convolution theorem tells us that:\n",
    "\n",
    "$$\\mathcal{F}[f\\cdot g] = \\mathcal{F}(f) \\ast \\mathcal{F}(g)$$\n",
    "\n",
    "Telescope observations are effectively the product of a continous signal with several delta functions (corresponding to the times of observations). As a result, the convolution that produces the periodogram will retain signal from both the source and the observational cadence."
   ]
  },
  {
   "cell_type": "markdown",
   "metadata": {
    "slideshow": {
     "slide_type": "slide"
    }
   },
   "source": [
    "To illustrate this effect, let us simulate \"realistic\" observations for a 10 year telescope survey. We do this by assuming that a source is observed every 3 nights (the LSST cadence) within $\\pm 4\\,\\mathrm{hr}$ of the same time, and that $\\sim 30\\%$ of the observations did not occur due to bad weather. We further assume that the source cannot be observed for 40% of the year because it is behind the sun.\n",
    "\n",
    "Simulate a periodic signal with this cadence, a period = 220 days (typical for Miras), amplitude = 12.4, and noise = 1. Plot the simulated light curve."
   ]
  },
  {
   "cell_type": "markdown",
   "metadata": {
    "slideshow": {
     "slide_type": "slide"
    }
   },
   "source": [
    "**Problem 4d**\n",
    "\n",
    "Simulate a periodic signal with 3 day cadence (and the observing conditions described above), a period = 220 days (typical for Miras), amplitude = 12.4, and variance of the noise = 1. Plot the simulated light curve."
   ]
  },
  {
   "cell_type": "code",
   "execution_count": null,
   "metadata": {
    "slideshow": {
     "slide_type": "slide"
    }
   },
   "outputs": [],
   "source": [
    "# set up simulated observations\n",
    "t_obs = np.arange(0, 10*365, 3)      # 3d cadence\n",
    "# complete\n",
    "# complete\n",
    "# complete\n",
    "\n",
    "y = gen_periodic_data( # complete\n",
    "# complete\n",
    "\n",
    "fig, ax = plt.subplots()\n",
    "ax.errorbar( # complete\n",
    "ax.set_xlabel(\"Time (d)\")\n",
    "\n",
    "ax.set_ylabel(\"Flux (arbitrary units)\")"
   ]
  },
  {
   "cell_type": "markdown",
   "metadata": {
    "slideshow": {
     "slide_type": "slide"
    }
   },
   "source": [
    "**Problem 4e**\n",
    "\n",
    "Calculate and plot the periodogram for the window function (i.e., set `y = 1` in `LombScargle`) of the observations. Do you notice any significant power? \n",
    "\n",
    "*Hint* - you may need to zoom in on the plot to see all the relevant features."
   ]
  },
  {
   "cell_type": "code",
   "execution_count": null,
   "metadata": {
    "slideshow": {
     "slide_type": "slide"
    }
   },
   "outputs": [],
   "source": [
    "ls = LombScargle( # complete\n",
    "    \n",
    "freq_window, power_window = # complete\n",
    "\n",
    "fig, ax = plt.subplots()\n",
    "ax.plot( # complete\n",
    "ax.set_ylabel(\"Power\")\n",
    "ax.set_xlabel(\"Period (d)\")\n",
    "ax.set_xlim(0,500)\n",
    "\n",
    "axins = plt.axes([.2, .65, .5, .2])\n",
    "axins.plot( # complete\n",
    "axins.set_xlim(0,5)"
   ]
  },
  {
   "cell_type": "markdown",
   "metadata": {
    "slideshow": {
     "slide_type": "slide"
    }
   },
   "source": [
    "Interestingly, there are very strong peaks in the data at $P \\approx 3\\,\\mathrm{d} \\;\\&\\; 365\\,\\mathrm{d}$. \n",
    "\n",
    "What is this telling us? Essentially that observations are likely to be repeated at intervals of 3 or 365 days (shorter period spikes are aliases of the 3 d peak).\n",
    "\n",
    "This is important to understand, however, because this same power will be present in the periodogram where we search for the periodic signal."
   ]
  },
  {
   "cell_type": "markdown",
   "metadata": {
    "slideshow": {
     "slide_type": "slide"
    }
   },
   "source": [
    "**Problem 4f**\n",
    "\n",
    "Calculate the periodogram for the data and compare it to the periodogram for the window function. "
   ]
  },
  {
   "cell_type": "code",
   "execution_count": null,
   "metadata": {
    "slideshow": {
     "slide_type": "slide"
    }
   },
   "outputs": [],
   "source": [
    "ls = LombScargle( # complete\n",
    "\n",
    "frequency, power = # complete\n",
    "\n",
    "fig, (ax,ax2) = plt.subplots(2,1, sharex=True)\n",
    "ax.plot( # complete\n",
    "ax.set_ylabel(\"Power\")\n",
    "ax.set_ylim(0,1)\n",
    "\n",
    "ax2.plot( # complete\n",
    "ax2.set_ylabel(\"Power\")\n",
    "ax2.set_xlabel(\"Period (d)\")\n",
    "ax2.set_xlim(0,10)\n",
    "fig.tight_layout()"
   ]
  },
  {
   "cell_type": "markdown",
   "metadata": {
    "slideshow": {
     "slide_type": "slide"
    }
   },
   "source": [
    "### Uncertainty on the best-fit period\n",
    "\n",
    "How do we report uncertainties on the best-fit period from LS? For example, for the previously simulated LSST light curve we would want to report something like $P = 102 \\pm 4\\,\\mathrm{d}$. However, the uncertainty from LS periodograms cannot be determined in this way. "
   ]
  },
  {
   "cell_type": "markdown",
   "metadata": {
    "slideshow": {
     "slide_type": "slide"
    }
   },
   "source": [
    "Naively, one could report the width of the peak in the periodogram as the uncertainty in the fit. However, we previously saw that the peak width $\\propto 1/T$ (the peak width does not decrease as the number of observations or their S/N increases; see Vander Plas 2017). Reporting such an uncertainty is particularly ridiculous for long duration surveys, whereby the peaks become very very narrow."
   ]
  },
  {
   "cell_type": "markdown",
   "metadata": {
    "slideshow": {
     "slide_type": "slide"
    }
   },
   "source": [
    "An alternative approach is to report the False Alarm Probability (FAP), which estimates the probability that a dataset with no periodic signal could produce a peak of similar magnitude, due to random gaussian fluctuations, as the data. \n",
    "\n",
    "There are a few different methods to calculate the FAP. Perhaps the most useful, however, is the bootstrap method. To obtain a bootstrap estimate of the LS FAP one leaves the observation times fixed, and then draws new observation values with replacement from the actual set of observations. This procedure is then repeated many times to determine the FAP. "
   ]
  },
  {
   "cell_type": "markdown",
   "metadata": {
    "slideshow": {
     "slide_type": "slide"
    }
   },
   "source": [
    "One nice advantage of this procedure is that any effects due to the window function will be imprinted in each iteration of the bootstrap resampling. \n",
    "\n",
    "The major disadvantage is that many many periodograms must be calculated. The rule of thumb is that to acieve a FAP $= p_\\mathrm{false}$, one must run $n_\\mathrm{boot} \\approx 10/p_\\mathrm{false}$ bootstrap periodogram calculations. Thus, an FAP $\\approx 0.1\\%$ requires an increase of 1000 in computational time. \n",
    "\n",
    "`LombScargle` provides the [`false_alarm_probability`](One nice advantage of this procedure is that any effects due to the window function will be imprinted in each iteration of the bootstrap resampling. The major disadvantage is that many many periodograms must be calculated) method, including a bootstrap option. We skip that for now in the interest of time."
   ]
  },
  {
   "cell_type": "markdown",
   "metadata": {
    "slideshow": {
     "slide_type": "slide"
    }
   },
   "source": [
    "As a final note of caution - be weary of over-interpreting the FAP. The specific question answered by the FAP is, what is the probability that gaussian fluctations could produce a signal of equivalent magnitude? Whereas, the question we generally want to answer is: did a periodic signal produce these data?\n",
    "\n",
    "These questions are very different, and thus, the FAP cannot be used to *prove* that a source is periodic."
   ]
  },
  {
   "cell_type": "markdown",
   "metadata": {
    "slideshow": {
     "slide_type": "slide"
    }
   },
   "source": [
    "## Problem 5) Real-world considerations\n",
    "\n",
    "We have covered many, though not all, considerations that are necessary when employing a Lomb Scargle periodogram. We have not yet, however, encountered real world data. Here we highlight some of the issues associated with astronomical light curves. \n",
    "\n",
    "We will now use LS to analyze actual data from the [All Sky Automated Survey (ASAS)](http://www.astrouw.edu.pl/asas/?page=catalogues). Download the [example light curve](https://northwestern.box.com/s/rclcz4lkcdfjn4829p8pa5ddfmcyd0gm)."
   ]
  },
  {
   "cell_type": "markdown",
   "metadata": {
    "slideshow": {
     "slide_type": "slide"
    }
   },
   "source": [
    "**Problem 5a**\n",
    "\n",
    "Read in the light curve from example_asas_lc.dat. Plot the light curve.\n",
    "\n",
    "*Hint* - I recommend using `astropy Tables` or `pandas dataframe`."
   ]
  },
  {
   "cell_type": "code",
   "execution_count": null,
   "metadata": {
    "slideshow": {
     "slide_type": "slide"
    }
   },
   "outputs": [],
   "source": [
    "data = # complete\n",
    "\n",
    "fig, ax = plt.subplots()\n",
    "ax.errorbar( # complete\n",
    "ax.set_xlabel('HJD (d)')\n",
    "ax.set_ylabel('V (mag)')\n",
    "ax.set_ylim(ax.get_ylim()[::-1])\n",
    "fig.tight_layout()"
   ]
  },
  {
   "cell_type": "markdown",
   "metadata": {
    "slideshow": {
     "slide_type": "slide"
    }
   },
   "source": [
    "**Problem 5b**\n",
    "\n",
    "Use `LombScargle` to measure the periodogram. Then plot the periodogram and the phase folded light curve at the best-fit period.\n",
    "\n",
    "*Hint* - search periods longer than 2 hr."
   ]
  },
  {
   "cell_type": "code",
   "execution_count": null,
   "metadata": {
    "slideshow": {
     "slide_type": "slide"
    }
   },
   "outputs": [],
   "source": [
    "frequency, power = # complete\n",
    "\n",
    "# complete\n",
    "\n",
    "fig,ax = plt.subplots()\n",
    "\n",
    "ax.plot(# complete\n",
    "ax.set_ylabel(\"Power\")\n",
    "ax.set_xlabel(\"Period (d)\")\n",
    "ax.set_xlim(0, 800)\n",
    "\n",
    "axins = plt.axes([.25, .55, .6, .3])\n",
    "axins.plot( # complete\n",
    "axins.set_xlim(0,5)\n",
    "fig.tight_layout()"
   ]
  },
  {
   "cell_type": "code",
   "execution_count": null,
   "metadata": {
    "slideshow": {
     "slide_type": "slide"
    }
   },
   "outputs": [],
   "source": [
    "# plot the phase folded light curve\n",
    "phase_plot( # complete"
   ]
  },
  {
   "cell_type": "markdown",
   "metadata": {
    "slideshow": {
     "slide_type": "slide"
    }
   },
   "source": [
    "**Problem 5c**\n",
    "\n",
    "Now plot the light curve folded at twice the best LS period.\n",
    "\n",
    "Which of these 2 is better? "
   ]
  },
  {
   "cell_type": "code",
   "execution_count": null,
   "metadata": {
    "slideshow": {
     "slide_type": "slide"
    }
   },
   "outputs": [],
   "source": [
    "phase_plot( # complete"
   ]
  },
  {
   "cell_type": "markdown",
   "metadata": {
    "slideshow": {
     "slide_type": "slide"
    }
   },
   "source": [
    "Herein lies a fundamental issue regarding the LS periodogram: the model does not search for \"periodicity.\" The LS model asks if the data support a sinusoidal signal. As astronomers we typically assume this question is good enough, but as we can see in the example of this eclipsing binary that is not the case [and this is not limited to eclipsing binaries]. \n",
    "\n",
    "We can see why LS is not sufficient for an EB by comparing the model to the phase-folded light curve:"
   ]
  },
  {
   "cell_type": "code",
   "execution_count": null,
   "metadata": {
    "slideshow": {
     "slide_type": "slide"
    }
   },
   "outputs": [],
   "source": [
    "fig, ax = plt.subplots()\n",
    "\n",
    "ax.errorbar(data['hjd']/ls_period % 1, data['mag'], data['mag_unc'], fmt='o', zorder=-1)\n",
    "ax.plot(np.linspace(0,1,1000), \n",
    "        LombScargle(data['hjd'],data['mag'], data['mag_unc']).model(np.linspace(0,1,1000)*ls_period, 1/ls_period) )\n",
    "ax.set_xlabel('Phase')\n",
    "ax.set_ylabel('V (mag)')\n",
    "ax.set_ylim(ax.get_ylim()[::-1])\n",
    "fig.tight_layout()"
   ]
  },
  {
   "cell_type": "markdown",
   "metadata": {
    "slideshow": {
     "slide_type": "slide"
    }
   },
   "source": [
    "One way to combat this very specific issue is to include more Fourier terms at the harmonic of the best fit period. This is easy to implement in `LombScargle` with the `nterms` keyword. [Though always be weary of adding degrees of freedom to a model, especially at the large pipeline level of analysis.]\n",
    "\n",
    "**Problem 5d**\n",
    "\n",
    "Calculate the LS periodogram for the eclipsing binary, with `nterms` = 1, 2, 3, 4, 5. Report the best-fit period for each of these models.\n",
    "\n",
    "*Hint* - we have good reason to believe that the best fit frequency is < 3 in this case, so set `maximum_frequency = 3`."
   ]
  },
  {
   "cell_type": "code",
   "execution_count": null,
   "metadata": {
    "slideshow": {
     "slide_type": "slide"
    }
   },
   "outputs": [],
   "source": [
    "for i in np.arange(1,6):\n",
    "    frequency, power = # complete\n",
    "    # complete\n",
    "    print('For {:d} harmonics, P_LS = {:.8f}'.format( # complete"
   ]
  },
  {
   "cell_type": "markdown",
   "metadata": {
    "slideshow": {
     "slide_type": "slide"
    }
   },
   "source": [
    "Interestingly, for the $n=2, 3, 4$ harmonics, it appears as though we get the period that we have visually confirmed. However, by $n=5$ harmonics we no longer get a reasonable answer. Again - be very careful about adding harmonics, especially in large analysis pipelines.\n",
    "\n",
    "What does the $n = 4$ model look like?"
   ]
  },
  {
   "cell_type": "code",
   "execution_count": null,
   "metadata": {
    "slideshow": {
     "slide_type": "slide"
    }
   },
   "outputs": [],
   "source": [
    "best_period = 0.73508568\n",
    "\n",
    "fig, ax = plt.subplots()\n",
    "\n",
    "ax.errorbar((data['hjd'])/best_period % 1, data['mag'], data['mag_unc'], fmt='o',zorder=-1)\n",
    "ax.plot(np.linspace(0,1,1000), \n",
    "        LombScargle(data['hjd'],data['mag'], data['mag_unc'], \n",
    "                    nterms=4).model(np.linspace(0,1,1000)*best_period, 1/best_period) )\n",
    "ax.set_xlabel('Phase')\n",
    "ax.set_ylabel('V (mag)')\n",
    "ax.set_ylim(ax.get_ylim()[::-1])\n",
    "fig.tight_layout()"
   ]
  },
  {
   "cell_type": "markdown",
   "metadata": {
    "slideshow": {
     "slide_type": "slide"
    }
   },
   "source": [
    "This example also shows why it is somewhat strange to provide an uncertainty with a LS best-fit period. Errors tend to be catastrophic, and not some small fractional percentage, with the LS periodogram (we'll explore this a little further later). \n",
    "\n",
    "In the case of the above EB, the \"best-fit\" period was off by a factor 2. This is not isolated to EBs, however, LS periodograms frequently identify a correct harmonic of the true period, but not the actual period of variability. "
   ]
  },
  {
   "cell_type": "markdown",
   "metadata": {
    "slideshow": {
     "slide_type": "slide"
    }
   },
   "source": [
    "## Conclusions\n",
    "\n",
    "The Lomb-Scargle periodogram is a useful tool to search for *sinusoidal* signals in noisy, irregular data. \n",
    "\n",
    "However, as highlighted throughout, there are many ways in which the methodology can run awry."
   ]
  },
  {
   "cell_type": "markdown",
   "metadata": {
    "slideshow": {
     "slide_type": "slide"
    }
   },
   "source": [
    "In closing, I will summarize some practical considerations from VanderPlas (2017): \n",
    "\n",
    "  1. Choose an appropriate frequency grid (defaults in `LombScargle` are not sufficient)\n",
    "  2. Calculate the LS periodogram for the observation times to search for dominant signals (e.g., 1 day in astro)\n",
    "  3. Compute LS periodogram for data (avoid multi-Fourier models if signal unknown)\n",
    "  4. Plot periodogram and various FAP levels (do not over-interpret FAP)\n",
    "  5. If window function shows strong aliasing, plot phased light curve at each peak (now add more Fourier terms if necessary)\n",
    "  6. If looking for a particular signal (e.g., detatched EBs), consider different methods that better match expected signal\n",
    "  7. Inject fake signals into data to understand systematics if using LS in a survey pipeline"
   ]
  },
  {
   "cell_type": "markdown",
   "metadata": {
    "slideshow": {
     "slide_type": "slide"
    }
   },
   "source": [
    "### Finally, Finally\n",
    "\n",
    "As a very last note: know that there are many different ways to search for periodicity in astronomical data. Depending on your application (and computational resources), LS may be a poor choice (even though this is often the default choice by all astronomers!) [Graham et al. (2013)](http://adsabs.harvard.edu/abs/2013MNRAS.434.3423G) provides a summary of several methods using actual astronomical data. The results of that study show that no single method is best. However, they also show that no single method performs particularly well: the detection efficiences in Graham et al. (2013) are disappointing given the importance of periodicity in astronomical signals.\n",
    "\n",
    "Period detection is a fundamental problem for astronomical time-series, but it is especially difficult in \"production\" mode. Be careful when setting up pipelines to analyze large datasets.  "
   ]
  },
  {
   "cell_type": "markdown",
   "metadata": {
    "slideshow": {
     "slide_type": "slide"
    }
   },
   "source": [
    "**Challenge Problem**\n",
    "\n",
    "Alter `gen_periodic_data` to create signals with 4 harmonics. \n",
    "\n",
    "Using our prescription for a simulated \"realistic\" astronomical cadence (see above), simulate 2 years worth of survey data for 1000 simulated stars with periods drawn randomly from [0.2, 10], amplitude=1, and variance of the noise=0.01. \n",
    "\n",
    "Compare the best-fit LS period to the simulated period. Do you notice any particular trends?"
   ]
  },
  {
   "cell_type": "code",
   "execution_count": null,
   "metadata": {
    "collapsed": true,
    "slideshow": {
     "slide_type": "skip"
    }
   },
   "outputs": [],
   "source": []
  },
  {
   "cell_type": "markdown",
   "metadata": {
    "slideshow": {
     "slide_type": "skip"
    }
   },
   "source": [
    "## Code from [PracticalLombScargle](https://github.com/jakevdp/PracticalLombScargle/) by Jake Van der Plas\n",
    "\n",
    "The functions below implement plotting routines developed by Jake to illustrate some properties of Fourier transforms. \n",
    "\n",
    "This code is distributed under a BSD-3 licence, which is repeated below: \n",
    "\n",
    "Copyright (c) 2015, Jake Vanderplas\n",
    "All rights reserved.\n",
    "\n",
    "Redistribution and use in source and binary forms, with or without\n",
    "modification, are permitted provided that the following conditions are met:\n",
    "\n",
    "* Redistributions of source code must retain the above copyright notice, this\n",
    "  list of conditions and the following disclaimer.\n",
    "\n",
    "* Redistributions in binary form must reproduce the above copyright notice,\n",
    "  this list of conditions and the following disclaimer in the documentation\n",
    "  and/or other materials provided with the distribution.\n",
    "\n",
    "* Neither the name of PracticalLombScargle nor the names of its\n",
    "  contributors may be used to endorse or promote products derived from\n",
    "  this software without specific prior written permission.\n",
    "\n",
    "THIS SOFTWARE IS PROVIDED BY THE COPYRIGHT HOLDERS AND CONTRIBUTORS \"AS IS\"\n",
    "AND ANY EXPRESS OR IMPLIED WARRANTIES, INCLUDING, BUT NOT LIMITED TO, THE\n",
    "IMPLIED WARRANTIES OF MERCHANTABILITY AND FITNESS FOR A PARTICULAR PURPOSE ARE\n",
    "DISCLAIMED. IN NO EVENT SHALL THE COPYRIGHT HOLDER OR CONTRIBUTORS BE LIABLE\n",
    "FOR ANY DIRECT, INDIRECT, INCIDENTAL, SPECIAL, EXEMPLARY, OR CONSEQUENTIAL\n",
    "DAMAGES (INCLUDING, BUT NOT LIMITED TO, PROCUREMENT OF SUBSTITUTE GOODS OR\n",
    "SERVICES; LOSS OF USE, DATA, OR PROFITS; OR BUSINESS INTERRUPTION) HOWEVER\n",
    "CAUSED AND ON ANY THEORY OF LIABILITY, WHETHER IN CONTRACT, STRICT LIABILITY,\n",
    "OR TORT (INCLUDING NEGLIGENCE OR OTHERWISE) ARISING IN ANY WAY OUT OF THE USE\n",
    "OF THIS SOFTWARE, EVEN IF ADVISED OF THE POSSIBILITY OF SUCH DAMAGE."
   ]
  },
  {
   "cell_type": "code",
   "execution_count": 2,
   "metadata": {
    "collapsed": true,
    "slideshow": {
     "slide_type": "skip"
    }
   },
   "outputs": [],
   "source": [
    "def fourier_pairs_plot():\n",
    "    \n",
    "    fig, ax = plt.subplots(4, 2, figsize=(10, 6))\n",
    "    fig.subplots_adjust(left=0.04, right=0.98, bottom=0.02, top=0.95,\n",
    "                        hspace=0.3, wspace=0.2)\n",
    "\n",
    "    x = np.linspace(-5, 5, 1000)\n",
    "\n",
    "    for axi in ax.flat:\n",
    "        axi.xaxis.set_major_formatter(plt.NullFormatter())\n",
    "        axi.yaxis.set_major_formatter(plt.NullFormatter())\n",
    "\n",
    "        # draw center line\n",
    "        axi.axvline(0, linestyle='dotted', color='gray')\n",
    "        axi.axhline(0, linestyle='dotted', color='gray')\n",
    "\n",
    "    style_re = dict(linestyle='solid', color='k', linewidth=2)\n",
    "    style_im = dict(linestyle='solid', color='gray', linewidth=2)\n",
    "    text_style = dict(size=14, color='gray')\n",
    "\n",
    "\n",
    "    # sine -> delta\n",
    "    ax[0, 0].plot(x, np.cos(x),**style_re)\n",
    "    ax[0, 0].set(xlim=(-5, 5), ylim=(-1.2, 1.2))\n",
    "    ax[0, 0].annotate('', (-np.pi, 0), (np.pi, 0),\n",
    "                      arrowprops=dict(arrowstyle='|-|', color='gray'))\n",
    "    ax[0, 0].text(0, 0, '$1/f_0$', ha='center', va='bottom', **text_style)\n",
    "    ax[0, 0].set_title('Sinusoid')\n",
    "\n",
    "    ax[0, 1].plot([-5, 2, 2, 2, 5], [0, 0, 1, 0, 0], **style_re)\n",
    "    ax[0, 1].plot([-5, -2, -2, -2, 5], [0, 0, 1, 0, 0], **style_re)\n",
    "    ax[0, 1].set(xlim=(-5, 5), ylim=(-0.2, 1.2))\n",
    "    ax[0, 1].annotate('', (0, 0.4), (2, 0.4), arrowprops=dict(arrowstyle='<-', color='gray'))\n",
    "    ax[0, 1].annotate('', (0, 0.4), (-2, 0.4), arrowprops=dict(arrowstyle='<-', color='gray'))\n",
    "    ax[0, 1].text(1, 0.45, '$+f_0$', ha='center', va='bottom', **text_style)\n",
    "    ax[0, 1].text(-1, 0.45, '$-f_0$', ha='center', va='bottom', **text_style)\n",
    "    ax[0, 1].set_title('Delta Functions')\n",
    "\n",
    "    # gaussian -> gaussian\n",
    "    ax[1, 0].plot(x, np.exp(-(2 * x) ** 2), **style_re)\n",
    "    ax[1, 0].set(xlim=(-5, 5), ylim=(-0.2, 1.2))\n",
    "    ax[1, 0].annotate('', (0, 0.35), (0.6, 0.35), arrowprops=dict(arrowstyle='<-', color='gray'))\n",
    "    ax[1, 0].text(0, 0.4, '$\\sigma$', ha='center', va='bottom', **text_style)\n",
    "    ax[1, 0].set_title('Gaussian')\n",
    "\n",
    "    ax[1, 1].plot(x, np.exp(-(x / 2) ** 2), **style_re)\n",
    "    ax[1, 1].set(xlim=(-5, 5), ylim=(-0.2, 1.2))\n",
    "    ax[1, 1].annotate('', (0, 0.35), (2, 0.35), arrowprops=dict(arrowstyle='<-', color='gray'))\n",
    "    ax[1, 1].text(0, 0.4, '$(2\\pi\\sigma)^{-1}$', ha='center', va='bottom', **text_style)\n",
    "    ax[1, 1].set_title('Gaussian')\n",
    "\n",
    "    # top hat -> sinc\n",
    "    ax[2, 0].plot([-2, -1, -1, 1, 1, 2], [0, 0, 1, 1, 0, 0], **style_re)\n",
    "    ax[2, 0].set(xlim=(-2, 2), ylim=(-0.3, 1.2))\n",
    "    ax[2, 0].annotate('', (-1, 0.5), (1, 0.5), arrowprops=dict(arrowstyle='<->', color='gray'))\n",
    "    ax[2, 0].text(0.0, 0.5, '$T$', ha='center', va='bottom', **text_style)\n",
    "    ax[2, 0].set_title('Top Hat')\n",
    "\n",
    "    ax[2, 1].plot(x, np.sinc(x), **style_re)\n",
    "    ax[2, 1].set(xlim=(-5, 5), ylim=(-0.3, 1.2))\n",
    "    ax[2, 1].annotate('', (-1, 0), (1, 0), arrowprops=dict(arrowstyle='<->', color='gray'))\n",
    "    ax[2, 1].text(0.0, 0.0, '$2/T$', ha='center', va='bottom', **text_style)\n",
    "    ax[2, 1].set_title('Sinc')\n",
    "\n",
    "    # comb -> comb\n",
    "    ax[3, 0].plot([-5.5] + sum((3 * [i] for i in range(-5, 6)), []) + [5.5],\n",
    "                  [0] + 11 * [0, 1, 0] + [0], **style_re)\n",
    "    ax[3, 0].set(xlim=(-5.5, 5.5), ylim=(-0.2, 1.2))\n",
    "    ax[3, 0].annotate('', (0, 0.5), (1, 0.5), arrowprops=dict(arrowstyle='<->', color='gray'))\n",
    "    ax[3, 0].text(0.5, 0.6, '$T$', ha='center', va='bottom', **text_style)\n",
    "    ax[3, 0].set_title('Dirac Comb')\n",
    "\n",
    "    ax[3, 1].plot([-5.5] + sum((3 * [i] for i in range(-5, 6)), []) + [5.5],\n",
    "                  [0] + 11 * [0, 1, 0] + [0], **style_re)\n",
    "    ax[3, 1].set(xlim=(-2.5, 2.5), ylim=(-0.2, 1.2));\n",
    "    ax[3, 1].annotate('', (0, 0.5), (1, 0.5), arrowprops=dict(arrowstyle='<->', color='gray'))\n",
    "    ax[3, 1].text(0.5, 0.6, '$1/T$', ha='center', va='bottom', **text_style)\n",
    "    ax[3, 1].set_title('Dirac Comb')\n",
    "\n",
    "    for i, letter in enumerate('abcd'):\n",
    "        ax[i, 0].set_ylabel('({0})'.format(letter), rotation=0)\n",
    "\n",
    "    # Draw arrows between pairs of axes\n",
    "    for i in range(4):\n",
    "        left = ax[i, 0].bbox.inverse_transformed(fig.transFigure).bounds\n",
    "        right = ax[i, 1].bbox.inverse_transformed(fig.transFigure).bounds\n",
    "        x = 0.5 * (left[0] + left[2] + right[0])\n",
    "        y = left[1] + 0.5 * left[3]\n",
    "        fig.text(x, y, r'$\\Longleftrightarrow$',\n",
    "                 ha='center', va='center', size=30)"
   ]
  }
 ],
 "metadata": {
  "celltoolbar": "Slideshow",
  "kernelspec": {
   "display_name": "Python 3",
   "language": "python",
   "name": "python3"
  },
  "language_info": {
   "codemirror_mode": {
    "name": "ipython",
    "version": 3
   },
   "file_extension": ".py",
   "mimetype": "text/x-python",
   "name": "python",
   "nbconvert_exporter": "python",
   "pygments_lexer": "ipython3",
   "version": "3.6.4"
  }
 },
 "nbformat": 4,
 "nbformat_minor": 2
}
