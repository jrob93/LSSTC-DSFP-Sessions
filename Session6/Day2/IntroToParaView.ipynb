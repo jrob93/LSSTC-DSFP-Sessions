{
 "cells": [
  {
   "cell_type": "code",
   "execution_count": 2,
   "metadata": {
    "slideshow": {
     "slide_type": "skip"
    }
   },
   "outputs": [],
   "source": [
    "import numpy as np\n",
    "import matplotlib.pyplot as plt\n",
    "%matplotlib notebook"
   ]
  },
  {
   "cell_type": "markdown",
   "metadata": {
    "slideshow": {
     "slide_type": "skip"
    }
   },
   "source": [
    "First and foremost, you should have already installed ParaView on your machine. If not, you can [download the package](https://www.paraview.org/download/) from [paraview.org](https://www.paraview.org)."
   ]
  },
  {
   "cell_type": "markdown",
   "metadata": {
    "slideshow": {
     "slide_type": "slide"
    }
   },
   "source": [
    "# An Introduction to ParaView\n",
    "\n",
    "**version 0.1**\n",
    "\n",
    "***\n",
    "\n",
    "Adam A Miller (Northwestern CIERA/Adler Planetarium)\n",
    "01 May 2018"
   ]
  },
  {
   "cell_type": "markdown",
   "metadata": {
    "slideshow": {
     "slide_type": "slide"
    }
   },
   "source": [
    "Our data do not live in 2 dimensions... \n",
    "\n",
    "[As the third grade version of me would say, *\"Ummmm, Mr. Miller? Duh!\"*]"
   ]
  },
  {
   "cell_type": "markdown",
   "metadata": {
    "slideshow": {
     "slide_type": "slide"
    }
   },
   "source": [
    "And yet, a fundamental limitation we that consisently place upon ourselves is to insist that we represent the data in 2D when communicating with the public and our colleagues. \n",
    "\n",
    "In a sense, we are doing science with 1 arm tied behind our backs..."
   ]
  },
  {
   "cell_type": "markdown",
   "metadata": {
    "slideshow": {
     "slide_type": "slide"
    }
   },
   "source": [
    "Our data also do not live in 3 dimensions.\n",
    "\n",
    "But I can think of a distinct advantage to moving to 3D representations: our spatial representation of the Universe can be fully described in 3 dimensions. \n",
    "\n",
    "Thus, if we want to describe the positions of stars in a cluster (*Gaia*?), or show variations in density within a Giant Molecular Cloud, or examine the surface of a minor planet or asteroid, these tasks are all acomplished much better in 3D."
   ]
  },
  {
   "cell_type": "markdown",
   "metadata": {
    "slideshow": {
     "slide_type": "subslide"
    }
   },
   "source": [
    "(ignoring special relativity for now...)"
   ]
  },
  {
   "cell_type": "markdown",
   "metadata": {
    "slideshow": {
     "slide_type": "slide"
    }
   },
   "source": [
    "Why interactive?\n",
    "\n",
    "It would not be unreasonable to take the following stance: the heavy lifting in exploring a data set should be done by the researchers. In this sense, \"final\" plots or renditions can be presented to an audience via a slide or paper that summarize all of the salient features."
   ]
  },
  {
   "cell_type": "markdown",
   "metadata": {
    "slideshow": {
     "slide_type": "slide"
    }
   },
   "source": [
    "What if, however, you wish to enable science, or discovery, for amatuers (e.g., the [Zooniverse](https://www.zooniverse.org/), or even in the classroom (see James's talk from yesterday)? \n",
    "\n",
    "It is unfair to ask this audience to calculate integrals, or to develop even a small fraction of the domain expertise that you and your colleagues (PhDs and PhD candidates) have. Interactivity provides a natural way for this audience to explore the data."
   ]
  },
  {
   "cell_type": "markdown",
   "metadata": {
    "slideshow": {
     "slide_type": "slide"
    }
   },
   "source": [
    "Furthermore, it may even *help you* in your quest for discovery and understaning."
   ]
  },
  {
   "cell_type": "markdown",
   "metadata": {
    "slideshow": {
     "slide_type": "slide"
    }
   },
   "source": [
    "So, today –– [ParaView](https://www.paraview.org/)"
   ]
  },
  {
   "cell_type": "markdown",
   "metadata": {
    "slideshow": {
     "slide_type": "slide"
    }
   },
   "source": [
    "ParaView is an open source platform that was specifically designed for data analysis and visualization. Briefly, ParaView is interesting (for us) for several reasons: \n",
    "\n",
    "  1. General purpose and can easily be used on laptop or HPC\n",
    "  2. Naturally utilizes multiple processors for handling large data sets (in particular 3D)\n",
    "  3. Includes a scripting interface (via Python)"
   ]
  },
  {
   "cell_type": "markdown",
   "metadata": {
    "slideshow": {
     "slide_type": "slide"
    }
   },
   "source": [
    "Ultimately, we want to turn data (images, measurements, spectra, etc) into some rendering to represent the data in a way that provides insight or better understanding [for all viz, not just ParaView].\n",
    "\n",
    "ParaView takes VTK, the Visualization Toolkit, data as an input (later you will create some VTK files)."
   ]
  },
  {
   "cell_type": "markdown",
   "metadata": {
    "slideshow": {
     "slide_type": "slide"
    }
   },
   "source": [
    "VTK uses a basic data-flow paradigm, in which data flows through the system while being transformed at each step [via modules known as algorithms]. Algorithms have input ports to take data, and output ports to produce output:\n",
    "\n",
    "  * Sources do not have input ports, but have outputs [i.e. to get data into the system, e.g., reading a file]\n",
    "  * Sinks convert input into graphics such that they can be rendered \n",
    "  * Filters are intermediate algorithms, that convert input into output"
   ]
  },
  {
   "cell_type": "markdown",
   "metadata": {
    "slideshow": {
     "slide_type": "slide"
    }
   },
   "source": [
    "Connecting sources, sinks, and filters can create arbitrarily complicated visual renderings. \n",
    "\n",
    "<img style=\"display: block; margin-left: auto; margin-right: auto\" src=\"./images/pv_visualization_model.png\" align=\"middle\">\n",
    "\n",
    "<div align=\"right\"> <font size=\"-3\">(credit: ParaView Guide) </font></div>"
   ]
  },
  {
   "cell_type": "markdown",
   "metadata": {
    "slideshow": {
     "slide_type": "slide"
    }
   },
   "source": [
    "Following this brief introduction, we will start the visual exploration with ParaView. "
   ]
  },
  {
   "cell_type": "markdown",
   "metadata": {
    "slideshow": {
     "slide_type": "slide"
    }
   },
   "source": [
    "## Problem 1) Creating an Interactive Sphere\n",
    "\n",
    "We will begin by creating a simple 3D object (a sphere). While there is nothing spectacular about a sphere, I'll note that it is not particularly easy to represent a(n interactive) sphere in `matplotlib`."
   ]
  },
  {
   "cell_type": "markdown",
   "metadata": {
    "slideshow": {
     "slide_type": "slide"
    }
   },
   "source": [
    "**Problem 1a**\n",
    "\n",
    "Open paraview. \n",
    "\n",
    "Create a sphere. [*Sources $\\rightarrow$ Sphere*]"
   ]
  },
  {
   "cell_type": "markdown",
   "metadata": {
    "slideshow": {
     "slide_type": "slide"
    }
   },
   "source": [
    "At this stage you will notice that nothing is yet visible in the layout panel. However, a few things have happened.\n",
    "\n",
    "There is now a pipeline module in the pipeline browser (upper left panel). Properties of the sphere can be adjusted in the properties panel (lower left). Finally, the *Apply* button in the properties panel is now active."
   ]
  },
  {
   "cell_type": "markdown",
   "metadata": {
    "slideshow": {
     "slide_type": "slide"
    }
   },
   "source": [
    "While this is not the case for this particular data set, because data ingestion and manipulation can be highly time consuming, ParaView allows you to perform those operations prior to rendering the data. \n",
    "\n",
    "The *Apply* button allows you to accept those changes before proceeding. "
   ]
  },
  {
   "cell_type": "markdown",
   "metadata": {
    "slideshow": {
     "slide_type": "slide"
    }
   },
   "source": [
    "**Problem 1b**\n",
    "\n",
    "Render the sphere [click *Apply*].\n",
    "\n",
    "Use your mouse to inspect, rotate, and examine the sphere."
   ]
  },
  {
   "cell_type": "markdown",
   "metadata": {
    "slideshow": {
     "slide_type": "slide"
    }
   },
   "source": [
    "**Problem 1c**\n",
    "\n",
    "Adjust the center of the sphere to the position [0,0,1], and adjust the radius to 1. "
   ]
  },
  {
   "cell_type": "markdown",
   "metadata": {
    "slideshow": {
     "slide_type": "slide"
    }
   },
   "source": [
    "**Problem 1d**\n",
    "\n",
    "Make the sphere appear more \"spherical\" by adjusting theta resolution to 100. "
   ]
  },
  {
   "cell_type": "markdown",
   "metadata": {
    "slideshow": {
     "slide_type": "slide"
    }
   },
   "source": [
    "There are a variety of filters that can be applied to the data (in the *Filters* menu). The available filters are dependent on the data type provided to ParaView.\n",
    "\n",
    "**Problem 1e**\n",
    "\n",
    "Shrink the size of the mesh cells on the surface of the sphere. [*Filters* $\\rightarrow$ *Alphabetical*  $\\rightarrow$ *Shrink*]\n",
    "\n",
    "Can you see the shrunken mesh cells?"
   ]
  },
  {
   "cell_type": "markdown",
   "metadata": {
    "slideshow": {
     "slide_type": "slide"
    }
   },
   "source": [
    "## Problem 2) Python Scripting a Sphere\n",
    "\n",
    "ParaView provides a python scripting interface. The package, `pvpython`, makes it possible to script up everything that one might want to do with paraview, using `python` (!). \n",
    "\n",
    "The ability to script these tasks is hugely important for reproducibility (and more advanced versions of automated analysis). "
   ]
  },
  {
   "cell_type": "markdown",
   "metadata": {
    "slideshow": {
     "slide_type": "slide"
    }
   },
   "source": [
    "Unfortunately, (as far as I can tell) `pvpython` is only compatible with `python` version 2.x, and it will not run within our DSFP conda environment. Forunately, ParaView ships with an internal `python` interpreter, so we are going to use that for now."
   ]
  },
  {
   "cell_type": "markdown",
   "metadata": {
    "slideshow": {
     "slide_type": "slide"
    }
   },
   "source": [
    "**Problem 2a**\n",
    "\n",
    "Open the `python` interpreter. [*View $\\rightarrow$ Python Shell*]\n",
    "\n",
    "This will open a `python` (likely v2.7.10) instance just below the layout panel."
   ]
  },
  {
   "cell_type": "markdown",
   "metadata": {
    "slideshow": {
     "slide_type": "slide"
    }
   },
   "source": [
    "Unfortunately, at this stage there are many panels, and not a lot of room to inspect the visualization. Ideally a lot of this work would be done on larger screens, but we will for now work with what we have.\n",
    "\n",
    "[If space is really at a premium on your screen, you can remove the pipeline browser and properties window as everything will be scripted for the remainder of this problem.]"
   ]
  },
  {
   "cell_type": "markdown",
   "metadata": {
    "slideshow": {
     "slide_type": "slide"
    }
   },
   "source": [
    "Before we proceed - remove the previously created sphere from the layout panel. [Click on Shrink, then click the *delete* button in the properties tab. Click on Sphere1, then click the *delete* button in the properties tab.]"
   ]
  },
  {
   "cell_type": "markdown",
   "metadata": {
    "slideshow": {
     "slide_type": "slide"
    }
   },
   "source": [
    "**Problem 2b**\n",
    "\n",
    "Create the sphere data source using the `python` interpreter.\n",
    "\n",
    "    Sphere()"
   ]
  },
  {
   "cell_type": "markdown",
   "metadata": {
    "slideshow": {
     "slide_type": "slide"
    }
   },
   "source": [
    "As before, we have created an active source in the pipeline. However, the sphere has not been rendered.\n",
    "\n",
    "**Problem 2c**\n",
    "\n",
    "Show the active source. \n",
    "\n",
    "    Show()      # prepare the display\n",
    "    Render()    # render the visualization"
   ]
  },
  {
   "cell_type": "markdown",
   "metadata": {
    "slideshow": {
     "slide_type": "slide"
    }
   },
   "source": [
    "**Problem 2d**\n",
    "\n",
    "Adjust the properties of the sphere to match those in **Problem 1**.\n",
    "\n",
    "    SetProperties(Radius=1.0)\n",
    "    SetProperties(Center=[0,0,1])"
   ]
  },
  {
   "cell_type": "markdown",
   "metadata": {
    "slideshow": {
     "slide_type": "slide"
    }
   },
   "source": [
    "In addition to `SetProperties` for the data, you can also use `SetDisplayProperties` to adjust the geometric represenation of the data."
   ]
  },
  {
   "cell_type": "markdown",
   "metadata": {
    "slideshow": {
     "slide_type": "slide"
    }
   },
   "source": [
    "**Problem 2e**\n",
    "\n",
    "Set the opacity of the sphere to 0.2.\n",
    "\n",
    "    SetDisplayProperties(Opacity=0.2)"
   ]
  },
  {
   "cell_type": "markdown",
   "metadata": {
    "slideshow": {
     "slide_type": "slide"
    }
   },
   "source": [
    "As before, we can also create filters via `pvpython`. Again, we will shrink the size of the mesh cells on the sphere."
   ]
  },
  {
   "cell_type": "markdown",
   "metadata": {
    "slideshow": {
     "slide_type": "slide"
    }
   },
   "source": [
    "**Problem 2f**\n",
    "\n",
    "Shrink the mesh cells on the surface of the sphere (using only python commands).\n",
    "\n",
    "    Shrink()\n",
    "\n",
    "*Hint* - don't forget to render the object."
   ]
  },
  {
   "cell_type": "markdown",
   "metadata": {
    "slideshow": {
     "slide_type": "slide"
    }
   },
   "source": [
    "Does this look like the rendering that we created previously?\n",
    "\n",
    "When scripting ParaView, the input data set is not automatically hidden after creating a new output. Instead, these actions must be done explicitly. There are a few different ways to handle this (below is an example that leverages an object oriented approach – meaning you need to start over to follow this)."
   ]
  },
  {
   "cell_type": "markdown",
   "metadata": {
    "slideshow": {
     "slide_type": "slide"
    }
   },
   "source": [
    "**Problem 2g**\n",
    "\n",
    "Using python remove the sphere instance from the rendition of the sphere.\n",
    "\n",
    "    sphereInstance = Sphere()\n",
    "    sphereInstance.Radius = 1.0\n",
    "    sphereInstance.Center[2] = 1.0\n",
    "    print sphereInstance.Center\n",
    "\n",
    "    sphereDisplay = Show(sphereInstance) \n",
    "    view = Render () \n",
    "    sphereDisplay.Opacity = 0.7\n",
    "\n",
    "    Render(view)\n",
    "\n",
    "    shrinkInstance = Shrink(Input=sphereInstance , ShrinkFactor=1.0)\n",
    "    print shrinkInstance.ShrinkFactor\n",
    "    Hide(sphereInstance)\n",
    "    shrinkDisplay = Show(shrinkInstance) \n",
    "    Render()"
   ]
  },
  {
   "cell_type": "markdown",
   "metadata": {
    "slideshow": {
     "slide_type": "slide"
    }
   },
   "source": [
    "## Problem 3) Scripting An Interactive Sphere\n",
    "\n",
    "Finally, it is possible to capture the commands executed via the GUI as a python script. In this way it is easy to reproduce an interactive session."
   ]
  },
  {
   "cell_type": "markdown",
   "metadata": {
    "slideshow": {
     "slide_type": "slide"
    }
   },
   "source": [
    "**Problem 3a**\n",
    "\n",
    "Trace your interactive commands [*Tools $\\rightarrow$ Start Trace*]"
   ]
  },
  {
   "cell_type": "markdown",
   "metadata": {
    "slideshow": {
     "slide_type": "slide"
    }
   },
   "source": [
    "**Problem 3b**\n",
    "\n",
    "Recrete a sphere following the steps from **Problem 1**.\n",
    "\n",
    "How does your trace compare to the script that you developed in **Problem 2**?"
   ]
  },
  {
   "cell_type": "markdown",
   "metadata": {
    "slideshow": {
     "slide_type": "slide"
    }
   },
   "source": [
    "**Break Out Problem**\n",
    "\n",
    "Of the 3 modes covered in Problems 1, 2, and 3 - which is to be preferred?\n",
    "\n",
    "[*spend a few minutes discussing with your neighbor*]"
   ]
  },
  {
   "cell_type": "markdown",
   "metadata": {
    "slideshow": {
     "slide_type": "slide"
    }
   },
   "source": [
    "## Problem 4) Getting Data Into ParaView"
   ]
  },
  {
   "cell_type": "markdown",
   "metadata": {
    "slideshow": {
     "slide_type": "slide"
    }
   },
   "source": [
    "Spheres are all well and good, but what we truly care about is visualizing our astronomical data.\n",
    "\n",
    "Unfortunately, this is not as simple as `plot(x,y)` or even `plot(x,y,z)` as you might expect for something designed to play nicely with `python`."
   ]
  },
  {
   "cell_type": "markdown",
   "metadata": {
    "slideshow": {
     "slide_type": "slide"
    }
   },
   "source": [
    "Instead, we need to package the data as [Visualization Toolkit](https://www.vtk.org), or vtk, files.\n",
    "\n",
    "Even more unfortunately, vtk are binary files that are known to be somewhat challenging to work with.\n",
    "\n",
    "Nevertheless, many of the most common/powerful 3D rendering programs (ParaView, Mayavi, etc), utilize vtk data."
   ]
  },
  {
   "cell_type": "markdown",
   "metadata": {
    "slideshow": {
     "slide_type": "subslide"
    }
   },
   "source": [
    "If I am being completely honest – and I always try to be completely honest – I don't know a lot about vtk, or why it's an especially useful format for these programs. \n",
    "\n",
    "Nevertheless, I will try to provide you with some insight (i.e. repeat what other people have said) on the vtk format."
   ]
  },
  {
   "cell_type": "markdown",
   "metadata": {
    "slideshow": {
     "slide_type": "slide"
    }
   },
   "source": [
    "Briefly, the vtk representation of data requires the specification of a geometry or topology, and then the data set properties are specified within the chosen geometry. vtk can handle points or cells data in five different formats: structured points, structured grid, rectilinear grid, unstructured grid, and polygonal data."
   ]
  },
  {
   "cell_type": "markdown",
   "metadata": {
    "slideshow": {
     "slide_type": "slide"
    }
   },
   "source": [
    "Structured points is the most simple format, wherein only the mesh dimensions (nx, ny, nz), mesh origin (x0, y0, z0), and cell dimensions (dx, dy, dz) are specified.\n",
    "\n",
    "<img style=\"display: block; margin-left: auto; margin-right: auto\" src=\"./images/Structured_points.png\" align=\"middle\">\n",
    "\n",
    "<div align=\"right\"> <font size=\"-3\">(credit: https://www.vtk.org/Wiki/VTK/Writing_VTK_files_using_python) </font></div>"
   ]
  },
  {
   "cell_type": "markdown",
   "metadata": {
    "slideshow": {
     "slide_type": "slide"
    }
   },
   "source": [
    "Rectilinear grid is also regularly spaced, but the spacing is not uniform. Thus, nodes must be specified along the given axes Ox, Oy, and Oz. \n",
    "\n",
    "<img style=\"display: block; margin-left: auto; margin-right: auto\" src=\"./images/Rectilinear_grid.png\" align=\"middle\">\n",
    "\n",
    "<div align=\"right\"> <font size=\"-3\">(credit: https://www.vtk.org/Wiki/VTK/Writing_VTK_files_using_python) </font></div>"
   ]
  },
  {
   "cell_type": "markdown",
   "metadata": {
    "slideshow": {
     "slide_type": "slide"
    }
   },
   "source": [
    "Structured grid is not regular or uniform. Thus, the nodes for every point within the mesh must be specified.\n",
    "\n",
    "<img style=\"display: block; margin-left: auto; margin-right: auto\" src=\"./images/Structured_grid.png\" align=\"middle\">\n",
    "\n",
    "<div align=\"right\"> <font size=\"-3\">(credit: https://www.vtk.org/Wiki/VTK/Writing_VTK_files_using_python) </font></div>"
   ]
  },
  {
   "cell_type": "markdown",
   "metadata": {
    "slideshow": {
     "slide_type": "slide"
    }
   },
   "source": [
    "Unstructured grid is a structured grid, but it can handle cell data (not just point data).\n",
    "\n",
    "Polygonal data is the most complicated (and thus provides a great deal of representational freedom), but we are going to ignore this for now."
   ]
  },
  {
   "cell_type": "markdown",
   "metadata": {
    "slideshow": {
     "slide_type": "slide"
    }
   },
   "source": [
    "As I mentioned previously, formatting data as vtk files is a bit of a pain. Fortuantely, there is a python package `pyevtk` that makes the process relatively painless."
   ]
  },
  {
   "cell_type": "markdown",
   "metadata": {
    "slideshow": {
     "slide_type": "skip"
    }
   },
   "source": [
    "You should have already installed `pyevtk`, but if not you can run: \n",
    "\n",
    "    pip install pyevtk"
   ]
  },
  {
   "cell_type": "code",
   "execution_count": 3,
   "metadata": {
    "slideshow": {
     "slide_type": "slide"
    }
   },
   "outputs": [],
   "source": [
    "from pyevtk.hl import gridToVTK, pointsToVTK"
   ]
  },
  {
   "cell_type": "markdown",
   "metadata": {
    "slideshow": {
     "slide_type": "slide"
    }
   },
   "source": [
    "We will start with a relatively straightforward example of creating a collection of points in 3 dimentions\n",
    "\n",
    "**Problem 4a**\n",
    "\n",
    "Create 3 arrays, `x, y, z`, of 500 points each that consist of random draws from independent gaussian distributions with mean 0 and standard deviation 20.\n",
    "\n",
    "Evalute the temperature and density on the grid provided below.\n",
    "\n",
    "$$T = 2.4/x + 0.04y^2 + 5/z$$\n",
    "$$\\rho = 1.11x^2 + 3.1y + 0.6z^2$$"
   ]
  },
  {
   "cell_type": "code",
   "execution_count": 6,
   "metadata": {
    "slideshow": {
     "slide_type": "slide"
    }
   },
   "outputs": [],
   "source": [
    "np.random.seed(23)\n",
    "\n",
    "mean=0\n",
    "sd=20\n",
    "N=500\n",
    "\n",
    "x = np.random.normal(mean,sd,N)\n",
    "y = np.random.normal(mean,sd,N)\n",
    "z = np.random.normal(mean,sd,N)\n",
    "\n",
    "temp = (2.4/x)+(0.04*(y**2.0))+(5.0/z)\n",
    "pressure = (1.11*(x**2.0))+(3.1*y)+(0.6*(z**2.0))"
   ]
  },
  {
   "cell_type": "markdown",
   "metadata": {
    "slideshow": {
     "slide_type": "slide"
    }
   },
   "source": [
    "**Problem 4b**\n",
    "\n",
    "Execute the cell below to create a .vtu file that can be read by ParaView.\n",
    "\n",
    "Open the file in ParaView. Represent the pressure data as *Point Gaussian*, and change the color to match that of the data.\n",
    "\n",
    "From the ParaView render, how would you describe the pressure of the system? What about the temperature?"
   ]
  },
  {
   "cell_type": "code",
   "execution_count": 8,
   "metadata": {
    "slideshow": {
     "slide_type": "slide"
    }
   },
   "outputs": [
    {
     "data": {
      "text/plain": [
       "'/Users/jrobinson/Google Drive/QUB PhD/LSST/LSSTC-DSFP-Sessions/Session6/Day2/points.vtu'"
      ]
     },
     "execution_count": 8,
     "metadata": {},
     "output_type": "execute_result"
    }
   ],
   "source": [
    "pointsToVTK(\"./points\", x, y, z, data = {\"temp\" : temp, \"pressure\" : pressure})"
   ]
  },
  {
   "cell_type": "markdown",
   "metadata": {
    "slideshow": {
     "slide_type": "slide"
    }
   },
   "source": [
    "I can already think of a few ways in which this representation would be useful (especially now that there is Gaia data available), but the real power of ParaView comes via the volume renderings (which require \"cell\" data as opposed to \"point\" data). \n",
    "\n",
    "We will start with random data on a structured grid. Recall that this means we need to specify the mesh dimensions and cell widths before evaluating data on the grid. [A more interesting example follows]"
   ]
  },
  {
   "cell_type": "code",
   "execution_count": 9,
   "metadata": {
    "slideshow": {
     "slide_type": "slide"
    }
   },
   "outputs": [],
   "source": [
    "nx, ny, nz = 6, 6, 2           # number of cells\n",
    "lx, ly, lz = 1.0, 1.0, 1.0     # length on each size\n",
    "dx, dy, dz = lx/nx, ly/ny, lz/nz       # size of the cells\n",
    "ncells = nx * ny * nz          # total number of cells\n",
    "npoints = (nx + 1) * (ny + 1) * (nz + 1)     # points defined by boundaries, hence n + 1"
   ]
  },
  {
   "cell_type": "code",
   "execution_count": 20,
   "metadata": {},
   "outputs": [
    {
     "name": "stdout",
     "output_type": "stream",
     "text": [
      "72\n",
      "147\n"
     ]
    }
   ],
   "source": [
    "print(ncells)\n",
    "print(npoints)"
   ]
  },
  {
   "cell_type": "markdown",
   "metadata": {
    "slideshow": {
     "slide_type": "slide"
    }
   },
   "source": [
    "From here we can establish the coordinates of the cell and the point data."
   ]
  },
  {
   "cell_type": "code",
   "execution_count": 10,
   "metadata": {
    "slideshow": {
     "slide_type": "slide"
    }
   },
   "outputs": [],
   "source": [
    "x = np.arange(0, lx + 0.1*dx, dx, dtype='float64') \n",
    "y = np.arange(0, ly + 0.1*dy, dy, dtype='float64') \n",
    "z = np.arange(0, lz + 0.1*dz, dz, dtype='float64') "
   ]
  },
  {
   "cell_type": "markdown",
   "metadata": {
    "slideshow": {
     "slide_type": "slide"
    }
   },
   "source": [
    "**Problem 4c**\n",
    "\n",
    "Assign random values for the pressure and tempurature and export the data to a file called structure.vtr.\n",
    "\n",
    "Open structure.vtr in ParaView. Represent the data as a surface with edges, and color the pressure data.\n",
    "\n",
    "*Note* - pay attention to the shape of the pressure and temperature data."
   ]
  },
  {
   "cell_type": "code",
   "execution_count": 25,
   "metadata": {
    "slideshow": {
     "slide_type": "slide"
    }
   },
   "outputs": [
    {
     "name": "stdout",
     "output_type": "stream",
     "text": [
      "(6, 6, 2)\n",
      "(7, 7, 3)\n"
     ]
    },
    {
     "data": {
      "text/plain": [
       "'/Users/jrobinson/Google Drive/QUB PhD/LSST/LSSTC-DSFP-Sessions/Session6/Day2/structured.vtr'"
      ]
     },
     "execution_count": 25,
     "metadata": {},
     "output_type": "execute_result"
    }
   ],
   "source": [
    "shape1=(nx, ny, nz)\n",
    "shape2=(nx+1, ny+1, nz+1)\n",
    "\n",
    "pressure = np.random.normal(mean,sd,shape1)\n",
    "temp = np.random.normal(mean,sd,shape2)\n",
    "\n",
    "pressure = np.random.rand(nx, ny, nz)\n",
    "temp = np.random.rand(nx+1, ny+1, nz+1)\n",
    "\n",
    "print(pressure.shape)\n",
    "print(temp.shape)\n",
    "\n",
    "gridToVTK(\"./structured\", x, y, z, cellData = {\"pressure\" : pressure}, pointData = {\"temp\" : temp})"
   ]
  },
  {
   "cell_type": "markdown",
   "metadata": {
    "slideshow": {
     "slide_type": "slide"
    }
   },
   "source": [
    "Now we will create a slightly more complicated volume rendition of the pressure and temperature.\n",
    "\n",
    "**Problem 4d**\n",
    "\n",
    "Create a grid with 25 cells on a side and equal size cells of length = 0.4. Create cell data for the pressure and point data for the temparture according to the functions given below.\n",
    "\n",
    "$$\\rho = \\left(\\cos(x) + \\cos(y) + \\cos(z)\\right)e^{-(x + y + z)^2/5}$$\n",
    "$$T = x + y + z$$\n",
    "\n",
    "*Hint* - avoid writing any loops for this problem."
   ]
  },
  {
   "cell_type": "code",
   "execution_count": 40,
   "metadata": {
    "slideshow": {
     "slide_type": "slide"
    }
   },
   "outputs": [
    {
     "name": "stdout",
     "output_type": "stream",
     "text": [
      "[  0.    0.4   0.8   1.2   1.6   2.    2.4   2.8   3.2   3.6   4.    4.4\n",
      "   4.8   5.2   5.6   6.    6.4   6.8   7.2   7.6   8.    8.4   8.8   9.2\n",
      "   9.6  10. ]\n",
      "(25,)\n",
      "(25, 25, 25)\n",
      "(26, 26, 26)\n"
     ]
    }
   ],
   "source": [
    "nx, ny, nz = 25, 25, 25           # number of cells\n",
    "lx, ly, lz = 10, 10, 10     # length on each size\n",
    "dx, dy, dz = lx/nx, ly/ny, lz/nz       # size of the cells\n",
    "\n",
    "x = np.arange(0, lx + 0.1*dx, dx, dtype='float64') \n",
    "y = np.arange(0, ly + 0.1*dy, dy, dtype='float64') \n",
    "z = np.arange(0, lz + 0.1*dz, dz, dtype='float64') \n",
    "\n",
    "x_cell=(x[1:] + x[:-1]) / 2\n",
    "y_cell=(y[1:] + y[:-1]) / 2\n",
    "z_cell=(z[1:] + z[:-1]) / 2\n",
    "\n",
    "print(x)\n",
    "print(x_cell.shape)\n",
    "#cell data: shape nx,ny,nz\n",
    "xx,yy,zz=np.meshgrid(x_cell,y_cell,z_cell)\n",
    "pressure=(np.cos(xx)+np.cos(yy)+np.cos(zz))*np.exp(-((xx+yy+zz)**2.0)/5.0)\n",
    "#point data: shape nx+1,ny+1,nz+1\n",
    "xx,yy,zz=np.meshgrid(x,y,z)\n",
    "temp= xx+yy+zz\n",
    "\n",
    "print(pressure.shape)\n",
    "print(temp.shape)\n",
    "\n",
    "xt=x\n",
    "yt=y\n",
    "zt=z"
   ]
  },
  {
   "cell_type": "markdown",
   "metadata": {
    "slideshow": {
     "slide_type": "slide"
    }
   },
   "source": [
    "**Problem 4e**\n",
    "\n",
    "Create a vtk file with the pressure and temperature data. Open the resuling file in ParaView.\n",
    "\n",
    "Examine the volume rendering of the data. Does the visualization make sense given the input data?\n",
    "\n",
    "*Hint* - the x, y, and z coordinates should all be specified as 3d arrays."
   ]
  },
  {
   "cell_type": "code",
   "execution_count": 41,
   "metadata": {
    "slideshow": {
     "slide_type": "slide"
    }
   },
   "outputs": [
    {
     "data": {
      "text/plain": [
       "'/Users/jrobinson/Google Drive/QUB PhD/LSST/LSSTC-DSFP-Sessions/Session6/Day2/structured.vtr'"
      ]
     },
     "execution_count": 41,
     "metadata": {},
     "output_type": "execute_result"
    }
   ],
   "source": [
    "gridToVTK(\"./structured\", xt, yt, zt, cellData = {\"pressure\" : pressure}, pointData = {\"temp\" : temp})"
   ]
  },
  {
   "cell_type": "markdown",
   "metadata": {
    "slideshow": {
     "slide_type": "slide"
    }
   },
   "source": [
    "For simplicity, we have focused on the most ordered methods of producing vtk files. As we have demonstrated, `pyevtk` provides a simple interface to convert `NumPy` arrays into vtk binary files. "
   ]
  },
  {
   "cell_type": "markdown",
   "metadata": {
    "slideshow": {
     "slide_type": "slide"
    }
   },
   "source": [
    "## Problem 5) Example Data Analysis - K means"
   ]
  },
  {
   "cell_type": "markdown",
   "metadata": {
    "slideshow": {
     "slide_type": "slide"
    }
   },
   "source": [
    "In addition to 3D rendering, ParaView provies utilities for performing (light) statistical analysis on data sets.\n",
    "\n",
    "As a demonstration of this we will revisit one of our commonly used data sets (the famous Iris machine learning data).\n",
    "\n",
    "Load the iris data into a `pandas` `DataFrame` via seaborn."
   ]
  },
  {
   "cell_type": "code",
   "execution_count": 42,
   "metadata": {
    "slideshow": {
     "slide_type": "slide"
    }
   },
   "outputs": [],
   "source": [
    "import seaborn as sns\n",
    "iris = sns.load_dataset(\"iris\")"
   ]
  },
  {
   "cell_type": "markdown",
   "metadata": {
    "slideshow": {
     "slide_type": "slide"
    }
   },
   "source": [
    "**Problem 5a**\n",
    "\n",
    "As a point of comparison, quickly visualize this data in 2D.  \n",
    "\n",
    "*Hint* - [`seaborn`](https://seaborn.pydata.org/index.html) makes this easy and possible with a single line of code."
   ]
  },
  {
   "cell_type": "code",
   "execution_count": 55,
   "metadata": {
    "slideshow": {
     "slide_type": "slide"
    }
   },
   "outputs": [
    {
     "name": "stderr",
     "output_type": "stream",
     "text": [
      "/Users/jrobinson/miniconda3/envs/dsfp5/lib/python3.6/site-packages/matplotlib/contour.py:967: UserWarning: The following kwargs were not used by contour: 'label', 'color'\n",
      "  s)\n"
     ]
    },
    {
     "data": {
      "text/plain": [
       "<seaborn.axisgrid.PairGrid at 0x1a17810f98>"
      ]
     },
     "execution_count": 55,
     "metadata": {},
     "output_type": "execute_result"
    },
    {
     "data": {
      "image/png": "[encoded data removed]",
      "text/plain": [
       "<matplotlib.figure.Figure at 0x1a18545518>"
      ]
     },
     "metadata": {},
     "output_type": "display_data"
    }
   ],
   "source": [
    "# sns.pairplot(iris,hue = \"species\")\n",
    "g = sns.PairGrid(iris, vars = [\"sepal_length\", \"sepal_width\", \"petal_length\", \"petal_width\"],\n",
    "                 hue = \"species\", diag_sharey=False)\n",
    "g.map_lower(sns.kdeplot)\n",
    "g.map_upper(plt.scatter)\n",
    "g.map_diag(plt.hist)"
   ]
  },
  {
   "cell_type": "markdown",
   "metadata": {
    "slideshow": {
     "slide_type": "slide"
    }
   },
   "source": [
    "As you can see: the iris data feature 3 classes in a four dimentional data set. We will now prepare this data for visualization in ParaView."
   ]
  },
  {
   "cell_type": "markdown",
   "metadata": {
    "slideshow": {
     "slide_type": "slide"
    }
   },
   "source": [
    "**Problem 5b**\n",
    "\n",
    "Select 3 of the variables to serve as the (x, y, z) spatial coordinates for the data set. Note - the specific selection does not particularly matter, though 2 features are clearly better than the others."
   ]
  },
  {
   "cell_type": "code",
   "execution_count": 158,
   "metadata": {
    "collapsed": true,
    "slideshow": {
     "slide_type": "slide"
    }
   },
   "outputs": [],
   "source": [
    "x = # complete\n",
    "y = # complete\n",
    "z = # complete"
   ]
  },
  {
   "cell_type": "markdown",
   "metadata": {
    "slideshow": {
     "slide_type": "slide"
    }
   },
   "source": [
    "**Problem 5c** \n",
    "\n",
    "Export the iris data as a vtk file for ParaView. Include both the species *and* the four features as data for the vtk file. Finally, be sure to randomize the order of the data prior to writing the vtk file.\n",
    "\n",
    "*Hint 1* - convert the species to a numerical representation.\n",
    "\n",
    "*Hint 2* - you may find [`np.random.choice`](https://docs.scipy.org/doc/numpy/reference/generated/numpy.random.choice.html) helpful."
   ]
  },
  {
   "cell_type": "code",
   "execution_count": 159,
   "metadata": {
    "slideshow": {
     "slide_type": "slide"
    }
   },
   "outputs": [
    {
     "data": {
      "text/plain": [
       "'/Users/adamamiller/astronomy/LSST/DSFP/LSSTC-DSFP/wk6May18/iris.vtu'"
      ]
     },
     "execution_count": 159,
     "metadata": {},
     "output_type": "execute_result"
    }
   ],
   "source": [
    "species = # complete\n",
    "\n",
    "\n",
    "petal_width = # complete\n",
    "petal_length = # complete\n",
    "sepal_width = # complete\n",
    "sepal_length = # complete\n",
    "\n",
    "# complete\n",
    "\n",
    "\n",
    "pointsToVTK(\"./iris\", # complete\n",
    "            # complete\n",
    "            # complete\n",
    "            # complete\n",
    "            # complete\n",
    "            # complete"
   ]
  },
  {
   "cell_type": "markdown",
   "metadata": {
    "slideshow": {
     "slide_type": "slide"
    }
   },
   "source": [
    "**Problem 5d**\n",
    "\n",
    "Open the iris data in ParaView. Represent the points as point gaussians, and color the points based on their species."
   ]
  },
  {
   "cell_type": "markdown",
   "metadata": {
    "slideshow": {
     "slide_type": "slide"
    }
   },
   "source": [
    "Rotating the data on the screen - it is possible to get a better sense of the distance between versicolor and virginica classes. \n",
    "\n",
    "Now we will attempt to cluster the data."
   ]
  },
  {
   "cell_type": "markdown",
   "metadata": {
    "slideshow": {
     "slide_type": "slide"
    }
   },
   "source": [
    "**Problem 5e**\n",
    "\n",
    "Create a K means statistical filter for the data. [*Filters $\\rightarrow$ Statistics $\\rightarrow$ K means*]\n",
    "\n",
    "Remove species from the variable of interest (we don't want to cluster on the correct answer). Increase the training fraction to 0.5, and reduce the tolerance to 0. Then select *Apply*.\n",
    "\n",
    "Turn on the rendering of the Assessed Data (and turn off iris.vtu). Now color the data via ClosestId(0). \n",
    "\n",
    "How do your clusters compare to the correct answer? Can you improve on this initial attempt at clustering?"
   ]
  },
  {
   "cell_type": "markdown",
   "metadata": {
    "slideshow": {
     "slide_type": "slide"
    }
   },
   "source": [
    "**Solution to 5e**\n",
    "\n",
    "The clusters in this case look a little ridiculous. That is because we fixed $k = 5$. If we instead fit for 3 clusters, we find clusters that better resemble the true classifications, however there are still a number of misidentifications."
   ]
  },
  {
   "cell_type": "markdown",
   "metadata": {
    "slideshow": {
     "slide_type": "slide"
    }
   },
   "source": [
    "**Break Out Problem**\n",
    "\n",
    "Which visualization technique is to be preferred: `seaborn` or ParaView? \n",
    "\n",
    "[*spend a few minutes discussing with your neighbor*]"
   ]
  },
  {
   "cell_type": "markdown",
   "metadata": {
    "slideshow": {
     "slide_type": "slide"
    }
   },
   "source": [
    "**Problem 5f**\n",
    "\n",
    "Click the *+* symbol next to Layout #1. Select *Plot Matrix View*. Be sure that all 5 data values are selected, then click *Apply*. \n",
    "\n",
    "Now which method do you prefer?"
   ]
  },
  {
   "cell_type": "markdown",
   "metadata": {
    "slideshow": {
     "slide_type": "slide"
    }
   },
   "source": [
    "## Problem 6) Rendering Basic Astronomical Data"
   ]
  },
  {
   "cell_type": "markdown",
   "metadata": {
    "slideshow": {
     "slide_type": "slide"
    }
   },
   "source": [
    "If you have not already, download the files Density.vtk and Temperature.vtk from the [data repo](https://northwestern.box.com/s/6pzxkp11l9ffn33kahlvu8y9tf8tp0li). These data were generated as part of a cosmological simulation run by Pascal Paschos at Northwestern University.\n",
    "\n",
    "Note, you'll need to unpack the tarball\n",
    "\n",
    "    tar -zxvf pv_vtk.tar.gz"
   ]
  },
  {
   "cell_type": "markdown",
   "metadata": {
    "slideshow": {
     "slide_type": "slide"
    }
   },
   "source": [
    "**Problem 6a**\n",
    "\n",
    "Open the Density.vtk and Temperature.vtk files in ParaView.\n",
    "\n",
    "Select the \"eye\" next to Density to render the density information."
   ]
  },
  {
   "cell_type": "markdown",
   "metadata": {
    "slideshow": {
     "slide_type": "slide"
    }
   },
   "source": [
    "**Problem 6b**\n",
    "\n",
    "Change the representation to Volume. The structure in this data is more complicated than our previous examples, take a moment to explore the contents of the data cube."
   ]
  },
  {
   "cell_type": "markdown",
   "metadata": {
    "slideshow": {
     "slide_type": "slide"
    }
   },
   "source": [
    "**Problem 6c**\n",
    "\n",
    "Turn off the Density render, and turn on the Temperature render. Again, change the represenation to Volume. \n",
    "\n",
    "How does the density data compare to the temperature data?"
   ]
  },
  {
   "cell_type": "markdown",
   "metadata": {
    "slideshow": {
     "slide_type": "slide"
    }
   },
   "source": [
    "**Problem 6d**\n",
    "\n",
    "Change the colorbar for the Temperature. \n",
    "\n",
    "In the properties tab, under the Coloring header, select the choose presets folder (this is the folder with heart over it). \n",
    "\n",
    "Using your previous knowledge of visualization, select a terrible colorbar.\n",
    "\n",
    "Replace the terrible colorbar with a useful colorbar."
   ]
  },
  {
   "cell_type": "markdown",
   "metadata": {
    "slideshow": {
     "slide_type": "slide"
    }
   },
   "source": [
    "**Problem 6e**\n",
    "\n",
    "Change the colorbar for the Density data."
   ]
  },
  {
   "cell_type": "markdown",
   "metadata": {
    "slideshow": {
     "slide_type": "slide"
    }
   },
   "source": [
    "**Problem 6f**\n",
    "\n",
    "Render both the Temperature and Density data. \n",
    "\n",
    "Can you see both volume renditions? If not, adjust the color schemes for each until you can.\n",
    "\n"
   ]
  },
  {
   "cell_type": "markdown",
   "metadata": {
    "slideshow": {
     "slide_type": "slide"
    }
   },
   "source": [
    "## Problem 7) Slicing the Data Cube"
   ]
  },
  {
   "cell_type": "markdown",
   "metadata": {
    "slideshow": {
     "slide_type": "slide"
    }
   },
   "source": [
    "**Problem 7a**\n",
    "\n",
    "Select the density data. Then slice the data using the tool in the top bar. When happy with the slice that you have selected, click \"apply\".\n",
    "\n",
    "*Note* - you can adjust the position of the slice by dragging the outline, and you can adjust the angle of the slice with the arrow."
   ]
  },
  {
   "cell_type": "markdown",
   "metadata": {
    "slideshow": {
     "slide_type": "slide"
    }
   },
   "source": [
    "**Problem 7b**\n",
    "\n",
    "Hide the density and temperature data, and examine the slice. If you are unhappy with your previous selection, adjust it."
   ]
  },
  {
   "cell_type": "markdown",
   "metadata": {
    "slideshow": {
     "slide_type": "slide"
    }
   },
   "source": [
    "**Problem 7c**\n",
    "\n",
    "Add a contour to the slice. This can be done using the contour button (multiple concentric half-spheres).\n",
    "\n",
    "Set the range for the contours from -2 to 2.5, and choose 6 steps for the contours. If you need to, adjust the color of the contours so they are visible relative to the background colors."
   ]
  },
  {
   "cell_type": "markdown",
   "metadata": {
    "slideshow": {
     "slide_type": "slide"
    }
   },
   "source": [
    "**Problem 7d**\n",
    "\n",
    "Add a clip to the temperature data. This can be done using the clip button (between the slice and contour buttons).\n",
    "\n",
    "Adjust the position of the clip to match that of the density contour.\n",
    "\n",
    "*Note* - you may need to slide the position of the clip slightly so that the contours remain visible."
   ]
  },
  {
   "cell_type": "markdown",
   "metadata": {
    "slideshow": {
     "slide_type": "slide"
    }
   },
   "source": [
    "**Problem 7e**\n",
    "\n",
    "Rotate the slice + clip to an angle of your choosing. Then save your rendering of the data to a png file.\n",
    "\n",
    "**Warning** - in some instances on my machine this lead to ParaView crashing, be sure you have everything set up as you would like prior to exporting to png."
   ]
  },
  {
   "cell_type": "markdown",
   "metadata": {
    "slideshow": {
     "slide_type": "slide"
    }
   },
   "source": [
    "Finally, in closing, I will note that it is possible in ParaView to export your rendering to `x3dom`, which is a format accepted by AAS journals to include interactive 3d plots in publications."
   ]
  },
  {
   "cell_type": "markdown",
   "metadata": {
    "slideshow": {
     "slide_type": "slide"
    }
   },
   "source": [
    "## Challenge Problem"
   ]
  },
  {
   "cell_type": "markdown",
   "metadata": {
    "slideshow": {
     "slide_type": "slide"
    }
   },
   "source": [
    "Convert the data that your brought with you to the DSFP into a ParaView readable vtk format. "
   ]
  }
 ],
 "metadata": {
  "celltoolbar": "Slideshow",
  "kernelspec": {
   "display_name": "Python (dsfp5)",
   "language": "python",
   "name": "dsfp5"
  },
  "language_info": {
   "codemirror_mode": {
    "name": "ipython",
    "version": 3
   },
   "file_extension": ".py",
   "mimetype": "text/x-python",
   "name": "python",
   "nbconvert_exporter": "python",
   "pygments_lexer": "ipython3",
   "version": "3.6.4"
  }
 },
 "nbformat": 4,
 "nbformat_minor": 2
}
